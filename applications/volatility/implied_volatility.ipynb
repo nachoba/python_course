{
 "cells": [
  {
   "cell_type": "markdown",
   "metadata": {},
   "source": [
    "# Construcción del `VIM` - El Volatility Index del Merval \n",
    "La idea del proyecto es comenzar a definir un índice similar al `VIX` pero para el mercado de acciones argentino.\n",
    "A este índice lo llamaremos `VIM`(Volatility Index Merval).\n",
    "Como primera iteración utilizaremos las opciones de Grupo Financiero Galicia `GGAL`, luego iremos agregando más acciones para hacerlo más representativo. \n",
    "Con contar con las opciones de `GGAL`, `YPF`, `BMA`, `PAMP`, `TGS` y alguna más será suficiente. La idea es tomar los 5 o 6 ADRs más líquidos y con una buena cantidad de opciones.\n",
    "\n",
    ">*\"CBOE VIX - White Paper: Cbow Volatility Index\"*\n",
    "\n",
    "El `VIX` se calcula de la siguiente forma:\n",
    "\n",
    "![](vix_formula.png)"
   ]
  },
  {
   "cell_type": "markdown",
   "metadata": {},
   "source": [
    "## Primera Iteración: Cálculo de la volatilidad implícita de una opción\n",
    "\n",
    "Se define *volatilidad* como la desviación estándar de los cambios porcentuales de los precios.\n",
    "\n",
    "Usualmente utilizamos dos medidas de la volatilidad:\n",
    "1. **Volatilidad Histórica:** Se calcula con precios históricos.\n",
    "2. **Volatilidad Implícita:** Se calcula a partir de la prima de las opciones. Nos da una estimación del movimiento probable futuro de los precios. Es decir, se obtiene al despejar la volatilidad en las fórmulas con las que valuamos opciones.\n",
    "\n",
    "Nos vamos a centrar en la **Volatilidad Implícita**\n",
    "La base del cálculo es con Strikes (precio de ejercicio) que se encuentren \"at the money\" para vencimientos a 30 días de la expiración.\n"
   ]
  },
  {
   "cell_type": "code",
   "execution_count": 1,
   "metadata": {},
   "outputs": [
    {
     "name": "stdout",
     "output_type": "stream",
     "text": [
      "Volatilidad Implícita: 0.4394726511734419\n"
     ]
    }
   ],
   "source": [
    "\n",
    "from scipy.stats import norm\n",
    "from math import log, sqrt, exp\n",
    "\n",
    "def calculate_iv(C, S, K, T, r):\n",
    "    # Estimación inicial de la volatilidad\n",
    "    sigma = 0.2  \n",
    "    tolerance = 0.0001\n",
    "    max_iterations = 1000\n",
    "\n",
    "    for i in range(max_iterations):\n",
    "        d1 = (log(S / K) + (r + 0.5 * sigma ** 2) * T) / (sigma * sqrt(T))\n",
    "        d2 = d1 - sigma * sqrt(T)\n",
    "        \n",
    "        # Precio de la opción call con la volatilidad actual\n",
    "        option_price = S * norm.cdf(d1) - K * exp(-r * T) * norm.cdf(d2)\n",
    "        \n",
    "        # Vega (derivada del precio de la opción con respecto a la volatilidad)\n",
    "        vega = S * norm.pdf(d1) * sqrt(T)\n",
    "        \n",
    "        # Diferencia entre el precio de la opción calculado y el real\n",
    "        price_difference = option_price - C\n",
    "        \n",
    "        # Verificar si la diferencia está dentro del rango de tolerancia\n",
    "        if abs(price_difference) < tolerance:\n",
    "            return sigma\n",
    "        \n",
    "        # Actualizar la estimación de la volatilidad\n",
    "        sigma = sigma - price_difference / vega\n",
    "    \n",
    "    raise Exception(\"No se encontró la volatilidad dentro de la tolerancia especificada\")\n",
    "\n",
    "# Parámetros dados\n",
    "C = 118.05\n",
    "S = 400\n",
    "K = 300\n",
    "T = 5 / 12\n",
    "r = 0.10\n",
    "\n",
    "# Calcular la volatilidad implícita\n",
    "volatilidad_implicita = calculate_iv(C, S, K, T, r)\n",
    "print(\"Volatilidad Implícita:\", volatilidad_implicita)"
   ]
  }
 ],
 "metadata": {
  "kernelspec": {
   "display_name": "panditas",
   "language": "python",
   "name": "python3"
  },
  "language_info": {
   "codemirror_mode": {
    "name": "ipython",
    "version": 3
   },
   "file_extension": ".py",
   "mimetype": "text/x-python",
   "name": "python",
   "nbconvert_exporter": "python",
   "pygments_lexer": "ipython3",
   "version": "3.12.4"
  }
 },
 "nbformat": 4,
 "nbformat_minor": 2
}
