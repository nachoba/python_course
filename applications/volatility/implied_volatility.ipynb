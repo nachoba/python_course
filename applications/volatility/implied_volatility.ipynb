{
 "cells": [
  {
   "cell_type": "markdown",
   "metadata": {},
   "source": [
    "# Construcción del `VIM` - El Volatility Index del Merval \n",
    "La idea del proyecto es comenzar a definir un índice similar al `VIX` pero para el mercado de acciones argentino.\n",
    "A este índice lo llamaremos `VIM`(Volatility Index Merval).\n",
    "Como primera iteración utilizaremos las opciones de Grupo Financiero Galicia `GGAL`, luego iremos agregando más acciones para hacerlo más representativo. \n",
    "Con contar con las opciones de `GGAL`, `YPF`, `BMA`, `PAMP`, `TGS` y alguna más será suficiente. La idea es tomar los 5 o 6 ADRs más líquidos y con una buena cantidad de opciones.\n",
    "\n",
    ">*\"CBOE VIX - White Paper: Cbow Volatility Index\"*\n",
    "\n",
    "El `VIX` se calcula de la siguiente forma:\n",
    "\n",
    "![](vix_formula.png)"
   ]
  },
  {
   "cell_type": "markdown",
   "metadata": {},
   "source": [
    "## Primera Iteración: Cálculo de la volatilidad implícita de una opción\n",
    "\n",
    "Se define *volatilidad* como la desviación estándar de los cambios porcentuales de los precios.\n",
    "\n",
    "Usualmente utilizamos dos medidas de la volatilidad:\n",
    "1. **Volatilidad Histórica:** Se calcula con precios históricos.\n",
    "2. **Volatilidad Implícita:** Se calcula a partir de la prima de las opciones. Nos da una estimación del movimiento probable futuro de los precios. Es decir, se obtiene al despejar la volatilidad en las fórmulas con las que valuamos opciones.\n",
    "\n",
    "Nos vamos a centrar en la **Volatilidad Implícita**\n",
    "La base del cálculo es con Strikes (precio de ejercicio) que se encuentren \"at the money\" para vencimientos a 30 días de la expiración.\n"
   ]
  },
  {
   "cell_type": "markdown",
   "metadata": {},
   "source": [
    "Paper: \"The pricing of options and corporate liabilities\", Fisher Black, Myron Scholes\n",
    "Paper: \"Theory of rational option pricing\", Robert Merton\n",
    "\n",
    "Comenzamos por la clasica formula de Black-Scholes-Merton. El activo subyacente $S$ sigue un movimiento Browniano geometrico:\n",
    "\n",
    "$\\mathrm{d}S=\\mu S \\mathrm{d}t + \\sigma S \\mathrm{d}z$ \n",
    "\n",
    "$\\mu$ es la tasa instantanea esperada de retorno del activo subyacente.\n",
    "\n",
    "$\\sigma$ es la tasa instantanea de volatilidad de la tasa de retorno.\n",
    "\n",
    "$\\mathrm{d}z$ es un proceso de Wiener\n",
    "\n",
    "### La Formula\n",
    "La formula original se utiliza para valuar una opcion europea sobre una accion que no paga dividendos antes de la fecha de ejercicio. En el caso de una opcion americana, se puede utilizar para valuar un call sobre una accion que no paga dividndos.\n",
    "\n",
    "$c$ precio de un call europeo\n",
    "\n",
    "$p$ precio de un put  europeo \n",
    "\n",
    "$c={SN(d_{1})-Xe^{-rT}N(d_{2})}$\n",
    "\n",
    "$d={Xe^{-rT}N(-d_{2})-SN(-d_{1})}$\n",
    "\n",
    "donde:\n",
    "\n",
    "$d_{1}={{ln(S/X)+(r+\\sigma ^2 /2)T}\\over{\\sigma \\sqrt{T}}}$\n",
    "\n",
    "$d_{2}={{ln(S/X)+(r-\\sigma ^2 /2)T}\\over{\\sigma \\sqrt{T}}}$\n",
    "\n",
    "$S=$ Precio de la accion\n",
    "\n",
    "$X=$ Precio de ejercicio de la opcion (strike)\n",
    "\n",
    "$r=$ Tasa de interes libre de riesgo (risk-free rate)\n",
    "\n",
    "$T=$ Tiempo al vencimiento (expiration date in years)\n",
    "\n",
    "$\\sigma=$ Volatilidad en el retorno del precio del subyacente\n",
    "\n",
    "$N(x)=$ Funcion de distribucion normal acumulada "
   ]
  },
  {
   "cell_type": "markdown",
   "metadata": {},
   "source": [
    "#### La Funcion de distribucion normal acumulada\n",
    "Vamos a definir esta funcion en Python `normdist(x)`\n"
   ]
  },
  {
   "cell_type": "code",
   "execution_count": 9,
   "metadata": {},
   "outputs": [],
   "source": [
    "import numpy as np\n",
    "import scipy.stats as si\n",
    "\n",
    "def normdist(x):\n",
    "    normdist = si.norm.cdf(x, 0.0, 1.0)\n",
    "    return normdist"
   ]
  },
  {
   "cell_type": "markdown",
   "metadata": {},
   "source": [
    "Vamos a definir la formula y valuar un call europeo:\n",
    "\n",
    "Precio de la accion $S=$ $60\n",
    "\n",
    "Precio de ejercicio $X=$ $65\n",
    "\n",
    "Risk-Free Rate $r=$ 8%\n",
    "\n",
    "Volatilidad anual $\\sigma=$ 30%\n",
    "\n",
    "Time to maturity $T=$ 0.25 (tres meses)"
   ]
  },
  {
   "cell_type": "code",
   "execution_count": 16,
   "metadata": {},
   "outputs": [
    {
     "data": {
      "text/plain": [
       "(-0.3252847178235758, -0.47528471782357584)"
      ]
     },
     "execution_count": 16,
     "metadata": {},
     "output_type": "execute_result"
    }
   ],
   "source": [
    "# Calculamos d1 y d2\n",
    "S = 60\n",
    "X = 65\n",
    "r = 0.08\n",
    "σ = 0.3\n",
    "T = 0.25\n",
    "\n",
    "d1 = ( (np.log(S/X)+(r+0.5*σ**2)*T) / (σ*np.sqrt(T)) )\n",
    "d2 = ( (np.log(S/X)+(r-0.5*σ**2)*T) / (σ*np.sqrt(T)) )\n",
    "\n",
    "\n",
    "(d1,d2)\n"
   ]
  },
  {
   "cell_type": "code",
   "execution_count": 13,
   "metadata": {},
   "outputs": [
    {
     "data": {
      "text/plain": [
       "5.846282209855289"
      ]
     },
     "execution_count": 13,
     "metadata": {},
     "output_type": "execute_result"
    }
   ],
   "source": [
    "def BlackScholesPut(S,X,r,T,σ):\n",
    "    d1 = ( (np.log(S/X)+(r+0.5*σ**2)*T) / (σ*np.sqrt(T)) )\n",
    "    d2 = ( (np.log(S/X)+(r-0.5*σ**2)*T) / (σ*np.sqrt(T)) )\n",
    "    BlackScholesPut = X*np.exp(-r*T)*normdist(-d2) - S*normdist(-d1)\n",
    "    return (BlackScholesPut)\n",
    "\n",
    "BlackScholesPut(60,65,0.08,0.25,0.3)"
   ]
  },
  {
   "cell_type": "code",
   "execution_count": 14,
   "metadata": {},
   "outputs": [
    {
     "data": {
      "text/plain": [
       "2.1333684449162007"
      ]
     },
     "execution_count": 14,
     "metadata": {},
     "output_type": "execute_result"
    }
   ],
   "source": [
    "def BlackScholesCall(S,X,r,T,σ):\n",
    "    d1 = ( (np.log(S/X)+(r+0.5*σ**2)*T) / (σ*np.sqrt(T)) )\n",
    "    d2 = ( (np.log(S/X)+(r-0.5*σ**2)*T) / (σ*np.sqrt(T)) )\n",
    "    BlackScholesCall = S*normdist(d1) - X*np.exp(-r*T)*normdist(d2)\n",
    "    return (BlackScholesCall)\n",
    "\n",
    "BlackScholesCall(60,65,0.08,0.25,0.3)"
   ]
  },
  {
   "cell_type": "code",
   "execution_count": 1,
   "metadata": {},
   "outputs": [
    {
     "name": "stdout",
     "output_type": "stream",
     "text": [
      "Volatilidad Implícita: 0.4394726511734419\n"
     ]
    }
   ],
   "source": [
    "\n",
    "from scipy.stats import norm\n",
    "from math import log, sqrt, exp\n",
    "\n",
    "def calculate_iv(C, S, K, T, r):\n",
    "    # Estimación inicial de la volatilidad\n",
    "    sigma = 0.2  \n",
    "    tolerance = 0.0001\n",
    "    max_iterations = 1000\n",
    "\n",
    "    for i in range(max_iterations):\n",
    "        d1 = (log(S / K) + (r + 0.5 * sigma ** 2) * T) / (sigma * sqrt(T))\n",
    "        d2 = d1 - sigma * sqrt(T)\n",
    "        \n",
    "        # Precio de la opción call con la volatilidad actual\n",
    "        option_price = S * norm.cdf(d1) - K * exp(-r * T) * norm.cdf(d2)\n",
    "        \n",
    "        # Vega (derivada del precio de la opción con respecto a la volatilidad)\n",
    "        vega = S * norm.pdf(d1) * sqrt(T)\n",
    "        \n",
    "        # Diferencia entre el precio de la opción calculado y el real\n",
    "        price_difference = option_price - C\n",
    "        \n",
    "        # Verificar si la diferencia está dentro del rango de tolerancia\n",
    "        if abs(price_difference) < tolerance:\n",
    "            return sigma\n",
    "        \n",
    "        # Actualizar la estimación de la volatilidad\n",
    "        sigma = sigma - price_difference / vega\n",
    "    \n",
    "    raise Exception(\"No se encontró la volatilidad dentro de la tolerancia especificada\")\n",
    "\n",
    "# Parámetros dados\n",
    "C = 118.05\n",
    "S = 400\n",
    "K = 300\n",
    "T = 5 / 12\n",
    "r = 0.10\n",
    "\n",
    "# Calcular la volatilidad implícita\n",
    "volatilidad_implicita = calculate_iv(C, S, K, T, r)\n",
    "print(\"Volatilidad Implícita:\", volatilidad_implicita)"
   ]
  }
 ],
 "metadata": {
  "kernelspec": {
   "display_name": "panditas",
   "language": "python",
   "name": "python3"
  },
  "language_info": {
   "codemirror_mode": {
    "name": "ipython",
    "version": 3
   },
   "file_extension": ".py",
   "mimetype": "text/x-python",
   "name": "python",
   "nbconvert_exporter": "python",
   "pygments_lexer": "ipython3",
   "version": "3.12.4"
  }
 },
 "nbformat": 4,
 "nbformat_minor": 2
}
