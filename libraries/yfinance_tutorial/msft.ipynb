{
 "cells": [
  {
   "cell_type": "code",
   "execution_count": 1,
   "metadata": {},
   "outputs": [],
   "source": [
    "import yfinance as yf\n",
    "\n",
    "msft = yf.Ticker(\"MSFT\")\n",
    "\n",
    "# get all stock info\n",
    "msft.info"
   ]
  },
  {
   "cell_type": "code",
   "execution_count": null,
   "metadata": {},
   "outputs": [],
   "source": [
    "# get historical market data\n",
    "hist = msft.history(period=\"1mo\")"
   ]
  },
  {
   "cell_type": "code",
   "execution_count": null,
   "metadata": {},
   "outputs": [],
   "source": [
    "# show meta information about the history (requires history() to be called first)\n",
    "msft.history_metadata"
   ]
  },
  {
   "cell_type": "code",
   "execution_count": null,
   "metadata": {},
   "outputs": [],
   "source": [
    "# show actions (dividends, splits, capital gains)\n",
    "msft.actions\n",
    "msft.dividends\n",
    "msft.splits\n",
    "msft.capital_gains  # only for mutual funds & etfs"
   ]
  },
  {
   "cell_type": "code",
   "execution_count": null,
   "metadata": {},
   "outputs": [],
   "source": [
    "# show share count\n",
    "msft.get_shares_full(start=\"2022-01-01\", end=None)"
   ]
  },
  {
   "cell_type": "code",
   "execution_count": null,
   "metadata": {},
   "outputs": [],
   "source": [
    "# show financials:\n",
    "msft.calendar\n",
    "msft.sec_filings"
   ]
  },
  {
   "cell_type": "code",
   "execution_count": null,
   "metadata": {},
   "outputs": [],
   "source": [
    "# - income statement\n",
    "msft.income_stmt\n",
    "msft.quarterly_income_stmt"
   ]
  },
  {
   "cell_type": "code",
   "execution_count": null,
   "metadata": {},
   "outputs": [],
   "source": [
    "# - balance sheet\n",
    "msft.balance_sheet\n",
    "msft.quarterly_balance_sheet\n",
    "# - cash flow statement\n",
    "msft.cashflow\n",
    "msft.quarterly_cashflow\n",
    "# see `Ticker.get_income_stmt()` for more options"
   ]
  },
  {
   "cell_type": "code",
   "execution_count": null,
   "metadata": {},
   "outputs": [],
   "source": [
    "# show holders\n",
    "msft.major_holders\n",
    "msft.institutional_holders\n",
    "msft.mutualfund_holders\n",
    "msft.insider_transactions\n",
    "msft.insider_purchases\n",
    "msft.insider_roster_holders\n",
    "\n",
    "msft.sustainability"
   ]
  },
  {
   "cell_type": "code",
   "execution_count": null,
   "metadata": {},
   "outputs": [],
   "source": [
    "# show recommendations\n",
    "msft.recommendations\n",
    "msft.recommendations_summary\n",
    "msft.upgrades_downgrades"
   ]
  },
  {
   "cell_type": "code",
   "execution_count": null,
   "metadata": {},
   "outputs": [],
   "source": [
    "# show analysts data\n",
    "msft.analyst_price_targets\n",
    "msft.earnings_estimate\n",
    "msft.revenue_estimate\n",
    "msft.earnings_history\n",
    "msft.eps_trend\n",
    "msft.eps_revisions\n",
    "msft.growth_estimates"
   ]
  },
  {
   "cell_type": "code",
   "execution_count": null,
   "metadata": {},
   "outputs": [],
   "source": [
    "# Show future and historic earnings dates, returns at most next 4 quarters and last 8 quarters by default.\n",
    "# Note: If more are needed use msft.get_earnings_dates(limit=XX) with increased limit argument.\n",
    "msft.earnings_dates"
   ]
  },
  {
   "cell_type": "code",
   "execution_count": null,
   "metadata": {},
   "outputs": [],
   "source": [
    "# show ISIN code - *experimental*\n",
    "# ISIN = International Securities Identification Number\n",
    "msft.isin"
   ]
  },
  {
   "cell_type": "code",
   "execution_count": null,
   "metadata": {},
   "outputs": [],
   "source": [
    "# show options expirations\n",
    "msft.options"
   ]
  },
  {
   "cell_type": "code",
   "execution_count": null,
   "metadata": {},
   "outputs": [],
   "source": [
    "# show news\n",
    "msft.news"
   ]
  },
  {
   "cell_type": "code",
   "execution_count": null,
   "metadata": {},
   "outputs": [],
   "source": [
    "# get option chain for specific expiration\n",
    "opt = msft.option_chain('2024-09-20')\n",
    "# data available via: opt.calls, opt.puts"
   ]
  }
 ],
 "metadata": {
  "kernelspec": {
   "display_name": "panditas",
   "language": "python",
   "name": "python3"
  },
  "language_info": {
   "codemirror_mode": {
    "name": "ipython",
    "version": 3
   },
   "file_extension": ".py",
   "mimetype": "text/x-python",
   "name": "python",
   "nbconvert_exporter": "python",
   "pygments_lexer": "ipython3",
   "version": "3.12.4"
  }
 },
 "nbformat": 4,
 "nbformat_minor": 2
}
