{
 "cells": [
  {
   "cell_type": "markdown",
   "metadata": {},
   "source": [
    "# Chapter 2\n",
    "## Defining the Problem Statement, Target and Feature\n",
    "\n",
    "### 2.1 Defining the Problem Statement\n",
    "A machine learning project or task should start by defining the problem statement. It's what you want as output from the ML algorithm.\n",
    "\n",
    "> *A problem well defined is a problem half-solved*\n",
    "> \n",
    "> $-$ Charles Kettering\n",
    "\n",
    "All your efforts would be devoted to solving this problem statement. In trading applications, the problem statement can be:\n",
    "+ Whether to buy or sell gold?\n",
    "+ What is the expected price of $TSLA on the next day?\n",
    "+ How much capital should be allocated to different stocks in a portfolio?\n",
    "\n",
    "For the purpose of this book, our problem statement will be: Whether to buy $JPM stock at a given time or not?\n",
    "\n",
    "In technical jargon, the possible answer to this question is the *target variable*.\n"
   ]
  },
  {
   "cell_type": "markdown",
   "metadata": {},
   "source": [
    "### 2.2 Target Variable\n",
    "The problem statement in this case will be whether to buy or sell $JPM stocks. But how will the ML algorithm understand this logic?\n",
    "\n",
    "We will define buy when the expected returns on the next day is positive and sell if the expected returns on the next day is negative. We take historical data of the returns and start making these days as buy and sell.\n",
    "\n",
    "![alt text](assets/graph003.png)\n",
    "\n"
   ]
  }
 ],
 "metadata": {
  "language_info": {
   "name": "python"
  }
 },
 "nbformat": 4,
 "nbformat_minor": 2
}
