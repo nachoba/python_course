{
 "cells": [
  {
   "cell_type": "markdown",
   "metadata": {},
   "source": [
    "# Chapter 2\n",
    "## Defining the Problem Statement, Target and Feature\n",
    "\n",
    "### 2.1 Defining the Problem Statement\n",
    "A machine learning project or task should start by defining the problem statement. It's what you want as output from the ML algorithm.\n",
    "\n",
    "> *A problem well defined is a problem half-solved*\n",
    "> \n",
    "> $-$ Charles Kettering\n",
    "\n",
    "All your efforts would be devoted to solving this problem statement. In trading applications, the problem statement can be:\n",
    "+ Whether to buy or sell gold?\n",
    "+ What is the expected price of $TSLA on the next day?\n",
    "+ How much capital should be allocated to different stocks in a portfolio?\n",
    "\n",
    "For the purpose of this book, our problem statement will be: Whether to buy $JPM stock at a given time or not?\n",
    "\n",
    "In technical jargon, the possible answer to this question is the *target variable*.\n"
   ]
  },
  {
   "cell_type": "code",
   "execution_count": null,
   "metadata": {
    "vscode": {
     "languageId": "plaintext"
    }
   },
   "outputs": [],
   "source": []
  },
  {
   "cell_type": "markdown",
   "metadata": {},
   "source": [
    "### 2.2 Target Variable\n",
    "The problem statement in this case will be whether to buy or sell $JPM stocks. But how will the ML algorithm understand this logic?\n",
    "\n",
    "We will define buy when the expected returns on the next day is positive and sell if the expected returns on the next day is negative. We take historical data of the returns and start making these days as buy and sell.\n",
    "\n",
    "![alt text](assets/graph003.png)\n",
    "\n",
    "This column marked as buy and sell is called the target variable. In machine learning, you will denote a letter, `y` for the target variable.\n",
    "\n",
    "Similarly, you can create a target variable based on the different problem statements you will be solving. For example, to create an ML algorithm to predict $JPM stock price at the ned of the next trading day, the target variable in this case will be a series of close price data.\n",
    "\n",
    "Let's look at what is required by ML models to make these predictions."
   ]
  },
  {
   "cell_type": "markdown",
   "metadata": {},
   "source": [
    "## 2.3 Features\n",
    "Let's assume there is no ML model and we have to make the decision on our own. What data points or information would be needed in order to make this decision? A probable solution could imply looking at the following things:\n",
    "1. Trend in the price. Is it increasing or decreasing in the last few days?\n",
    "2. Volatility of the stock\n",
    "3. Values of technical indicators such as 14-day RSI and 50-day moving average\n",
    "\n",
    "Let's come back to the ML world. The information which is needed to predict to buy or sell $JPM stock is the same information that the ML model will use to make that decision.\n",
    "\n",
    "![alt text](assets/graph004.png)\n",
    "\n",
    "The information, such as volatility passed to the ML model are called *features*.\n",
    "\n",
    "It is important to note that the information passed to the ML model needs to be of good quality. Poor quality of input will produce poor and misleading output. The original data may have incorrect data or missing values. So we have to clean the data and then feed it into the ML model.\n",
    "\n",
    "Before passing any data to the ML model we need to ensure that each feature is relevant and has some predictive power. But even if the data is relevant, there is one important thing to check.\n",
    "\n",
    "**Most ML Models are based on assumption of Stationary Input:** Stationarity refers to the property that the observed value of the feature is independent of time. It means that the mean and the variance of the feature would be constant over time. Do note that this feature is not compulsory for all machine learning algorithms. However, basic models cannot handle non-stationary features.\n",
    "\n",
    "ML model learns that as SP500 index increases, the volatility index ($VIX) decreases and vice versa. A basic machine learning algorithm, on seeing a constant increase in SP500 price over the years, would start predicting VIX to crash into `0` and then go in the negative zone, whereas this will never be the case.\n",
    "\n",
    "So let's assume we finally decided to include stock's volatility in the model. But what should we include, weekly volatility or monthly volatility, or both?\n",
    "\n",
    "Since both these features, weekly and monthly volatility are highly correlated with each other, adding both of them will not add any extra information. Keeping both of them together in the model might add more weight to the information carried by each of them individually. So it's better to drop one of them. So to make sure we get reliable results, we need to make sure that the above conditions are satisfied.\n",
    "\n",
    "Quick summary:\n",
    "+ Features are the input given to the ML model to make predictions\n",
    "+ Each feature that is being passed to the ML model should be relevant and have some predictive power\n",
    "+ Most ML models require stationary features in order to make predictions\n",
    "+ Correlated features might add weight to the information carried by each of them individually. Hence, uncorrelated features are desired.\n",
    "\n"
   ]
  }
 ],
 "metadata": {
  "language_info": {
   "name": "python"
  }
 },
 "nbformat": 4,
 "nbformat_minor": 2
}
