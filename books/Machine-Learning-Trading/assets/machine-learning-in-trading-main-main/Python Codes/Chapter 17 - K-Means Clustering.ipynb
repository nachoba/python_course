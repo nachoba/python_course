{
 "cells": [
  {
   "cell_type": "markdown",
   "id": "0803e887",
   "metadata": {
    "id": "0803e887"
   },
   "source": [
    "# K-Means in Trading\n",
    "\n",
    "We start with importing the necessary libraries and fetching the required data using the following commands.\n",
    "\n",
    "#### Import Dataset\n",
    "\n",
    "We will use the dataset which contains the data for 12 companies and is stored in the `sample_stocks.csv` file. You can download this file from the github link provided in \"About The Book\" section of this book."
   ]
  },
  {
   "cell_type": "code",
   "execution_count": 1,
   "id": "27ee4c0e",
   "metadata": {
    "id": "27ee4c0e",
    "outputId": "b0ab9d04-4ee0-40c6-e709-09d935648337",
    "scrolled": false
   },
   "outputs": [
    {
     "data": {
      "text/html": [
       "<div>\n",
       "<style scoped>\n",
       "    .dataframe tbody tr th:only-of-type {\n",
       "        vertical-align: middle;\n",
       "    }\n",
       "\n",
       "    .dataframe tbody tr th {\n",
       "        vertical-align: top;\n",
       "    }\n",
       "\n",
       "    .dataframe thead th {\n",
       "        text-align: right;\n",
       "    }\n",
       "</style>\n",
       "<table border=\"1\" class=\"dataframe\">\n",
       "  <thead>\n",
       "    <tr style=\"text-align: right;\">\n",
       "      <th></th>\n",
       "      <th>ROE(%)</th>\n",
       "      <th>Beta</th>\n",
       "    </tr>\n",
       "  </thead>\n",
       "  <tbody>\n",
       "    <tr>\n",
       "      <th>ADBE</th>\n",
       "      <td>28.84</td>\n",
       "      <td>0.96</td>\n",
       "    </tr>\n",
       "    <tr>\n",
       "      <th>AEP</th>\n",
       "      <td>10.27</td>\n",
       "      <td>0.26</td>\n",
       "    </tr>\n",
       "    <tr>\n",
       "      <th>CSCO</th>\n",
       "      <td>22.53</td>\n",
       "      <td>0.89</td>\n",
       "    </tr>\n",
       "    <tr>\n",
       "      <th>EXC</th>\n",
       "      <td>8.57</td>\n",
       "      <td>0.43</td>\n",
       "    </tr>\n",
       "    <tr>\n",
       "      <th>FB</th>\n",
       "      <td>22.18</td>\n",
       "      <td>1.29</td>\n",
       "    </tr>\n",
       "    <tr>\n",
       "      <th>GOOGL</th>\n",
       "      <td>15.19</td>\n",
       "      <td>1.00</td>\n",
       "    </tr>\n",
       "    <tr>\n",
       "      <th>INTC</th>\n",
       "      <td>23.77</td>\n",
       "      <td>0.59</td>\n",
       "    </tr>\n",
       "    <tr>\n",
       "      <th>LNT</th>\n",
       "      <td>10.90</td>\n",
       "      <td>0.33</td>\n",
       "    </tr>\n",
       "    <tr>\n",
       "      <th>MSFT</th>\n",
       "      <td>34.74</td>\n",
       "      <td>0.78</td>\n",
       "    </tr>\n",
       "    <tr>\n",
       "      <th>STLD</th>\n",
       "      <td>21.34</td>\n",
       "      <td>1.45</td>\n",
       "    </tr>\n",
       "    <tr>\n",
       "      <th>TMUS</th>\n",
       "      <td>12.13</td>\n",
       "      <td>0.56</td>\n",
       "    </tr>\n",
       "    <tr>\n",
       "      <th>XEL</th>\n",
       "      <td>10.20</td>\n",
       "      <td>0.30</td>\n",
       "    </tr>\n",
       "  </tbody>\n",
       "</table>\n",
       "</div>"
      ],
      "text/plain": [
       "       ROE(%)  Beta\n",
       "ADBE    28.84  0.96\n",
       "AEP     10.27  0.26\n",
       "CSCO    22.53  0.89\n",
       "EXC      8.57  0.43\n",
       "FB      22.18  1.29\n",
       "GOOGL   15.19  1.00\n",
       "INTC    23.77  0.59\n",
       "LNT     10.90  0.33\n",
       "MSFT    34.74  0.78\n",
       "STLD    21.34  1.45\n",
       "TMUS    12.13  0.56\n",
       "XEL     10.20  0.30"
      ]
     },
     "execution_count": 1,
     "metadata": {},
     "output_type": "execute_result"
    }
   ],
   "source": [
    "# Importing the necessary libraries\n",
    "import yfinance as yf\n",
    "import pandas as pd\n",
    "import matplotlib.pyplot as plt \n",
    "import seaborn as sns\n",
    "%matplotlib inline\n",
    "plt.style.use('seaborn-darkgrid')\n",
    "import warnings\n",
    "warnings.filterwarnings('ignore')\n",
    "\n",
    "# The data is stored in the directory 'data_modules'\n",
    "path = \"../data_modules/\"\n",
    "\n",
    "# Read the data\n",
    "DF = pd.read_csv(path + 'sample_stocks.csv', index_col=0)\n",
    "DF"
   ]
  },
  {
   "cell_type": "markdown",
   "id": "354f738e",
   "metadata": {
    "id": "354f738e"
   },
   "source": [
    "As seen above, we have downloaded the data for the 12 stocks successfully.\n",
    "\n",
    "We will now create a copy (df) of the original data and work with it. The first step is to pre-process the data so that it can be fed to a k-means clustering algorithm. This involves converting the data in a NumPy array format and scaling it.\n",
    "\n",
    "Scaling amounts to subtracting the column mean and dividing by the column standard deviation from each data point in that column.\n",
    "\n",
    "For scaling, we use the StandardScaler class of scikit-learn library as follows:"
   ]
  },
  {
   "cell_type": "code",
   "execution_count": 2,
   "id": "890e31bc",
   "metadata": {
    "id": "890e31bc",
    "outputId": "5f36cd7a-b822-4daa-b207-84ebe0c1f04b"
   },
   "outputs": [
    {
     "name": "stdout",
     "output_type": "stream",
     "text": [
      "[[ 1.29583307  0.59517359]\n",
      " [-1.00653849 -1.27029587]\n",
      " [ 0.51349787  0.40862664]\n",
      " [-1.21731025 -0.81725329]\n",
      " [ 0.47010369  1.4746092 ]\n",
      " [-0.39654021  0.70177185]\n",
      " [ 0.66723728 -0.39086027]\n",
      " [-0.92842895 -1.08374893]\n",
      " [ 2.02733507  0.11548144]\n",
      " [ 0.36595764  1.90100222]\n",
      " [-0.77592938 -0.47080896]\n",
      " [-1.01521733 -1.16369762]]\n"
     ]
    }
   ],
   "source": [
    "# Making a copy to work with\n",
    "df = DF.copy()\n",
    "\n",
    "# Scaling the data\n",
    "from sklearn.preprocessing import StandardScaler\n",
    "\n",
    "scaler = StandardScaler()\n",
    "df_values = scaler.fit_transform(df.values)\n",
    "\n",
    "# Printing pre-processed data\n",
    "print(df_values)"
   ]
  },
  {
   "cell_type": "markdown",
   "id": "3f072d45",
   "metadata": {
    "id": "3f072d45"
   },
   "source": [
    "The next step is to import the 'KMeans' class from scikit-learn and fit a model with the value of hyperparameter 'K' (which is called n_clusters in scikit-learn) set to 2(randomly chosen) to which we fit our pre-processed data 'df_values'."
   ]
  },
  {
   "cell_type": "code",
   "execution_count": 3,
   "id": "eaaea716",
   "metadata": {
    "id": "eaaea716"
   },
   "outputs": [],
   "source": [
    "from sklearn.cluster import KMeans\n",
    "km_model = KMeans(n_clusters=2).fit(df_values)"
   ]
  },
  {
   "cell_type": "markdown",
   "id": "5fd66891",
   "metadata": {
    "id": "5fd66891"
   },
   "source": [
    "Thats it! 'km_model' is now trained and we can extract the cluster it has assigned to each stock as follows:"
   ]
  },
  {
   "cell_type": "code",
   "execution_count": 4,
   "id": "6d2027a4",
   "metadata": {
    "id": "6d2027a4",
    "outputId": "307f31d3-e8de-4b82-f05c-7f4f55454d57"
   },
   "outputs": [
    {
     "data": {
      "text/html": [
       "<div>\n",
       "<style scoped>\n",
       "    .dataframe tbody tr th:only-of-type {\n",
       "        vertical-align: middle;\n",
       "    }\n",
       "\n",
       "    .dataframe tbody tr th {\n",
       "        vertical-align: top;\n",
       "    }\n",
       "\n",
       "    .dataframe thead th {\n",
       "        text-align: right;\n",
       "    }\n",
       "</style>\n",
       "<table border=\"1\" class=\"dataframe\">\n",
       "  <thead>\n",
       "    <tr style=\"text-align: right;\">\n",
       "      <th></th>\n",
       "      <th>ROE(%)</th>\n",
       "      <th>Beta</th>\n",
       "      <th>cluster</th>\n",
       "    </tr>\n",
       "  </thead>\n",
       "  <tbody>\n",
       "    <tr>\n",
       "      <th>ADBE</th>\n",
       "      <td>28.84</td>\n",
       "      <td>0.96</td>\n",
       "      <td>1</td>\n",
       "    </tr>\n",
       "    <tr>\n",
       "      <th>AEP</th>\n",
       "      <td>10.27</td>\n",
       "      <td>0.26</td>\n",
       "      <td>0</td>\n",
       "    </tr>\n",
       "    <tr>\n",
       "      <th>CSCO</th>\n",
       "      <td>22.53</td>\n",
       "      <td>0.89</td>\n",
       "      <td>1</td>\n",
       "    </tr>\n",
       "    <tr>\n",
       "      <th>EXC</th>\n",
       "      <td>8.57</td>\n",
       "      <td>0.43</td>\n",
       "      <td>0</td>\n",
       "    </tr>\n",
       "    <tr>\n",
       "      <th>FB</th>\n",
       "      <td>22.18</td>\n",
       "      <td>1.29</td>\n",
       "      <td>1</td>\n",
       "    </tr>\n",
       "    <tr>\n",
       "      <th>GOOGL</th>\n",
       "      <td>15.19</td>\n",
       "      <td>1.00</td>\n",
       "      <td>1</td>\n",
       "    </tr>\n",
       "    <tr>\n",
       "      <th>INTC</th>\n",
       "      <td>23.77</td>\n",
       "      <td>0.59</td>\n",
       "      <td>1</td>\n",
       "    </tr>\n",
       "    <tr>\n",
       "      <th>LNT</th>\n",
       "      <td>10.90</td>\n",
       "      <td>0.33</td>\n",
       "      <td>0</td>\n",
       "    </tr>\n",
       "    <tr>\n",
       "      <th>MSFT</th>\n",
       "      <td>34.74</td>\n",
       "      <td>0.78</td>\n",
       "      <td>1</td>\n",
       "    </tr>\n",
       "    <tr>\n",
       "      <th>STLD</th>\n",
       "      <td>21.34</td>\n",
       "      <td>1.45</td>\n",
       "      <td>1</td>\n",
       "    </tr>\n",
       "    <tr>\n",
       "      <th>TMUS</th>\n",
       "      <td>12.13</td>\n",
       "      <td>0.56</td>\n",
       "      <td>0</td>\n",
       "    </tr>\n",
       "    <tr>\n",
       "      <th>XEL</th>\n",
       "      <td>10.20</td>\n",
       "      <td>0.30</td>\n",
       "      <td>0</td>\n",
       "    </tr>\n",
       "  </tbody>\n",
       "</table>\n",
       "</div>"
      ],
      "text/plain": [
       "       ROE(%)  Beta  cluster\n",
       "ADBE    28.84  0.96        1\n",
       "AEP     10.27  0.26        0\n",
       "CSCO    22.53  0.89        1\n",
       "EXC      8.57  0.43        0\n",
       "FB      22.18  1.29        1\n",
       "GOOGL   15.19  1.00        1\n",
       "INTC    23.77  0.59        1\n",
       "LNT     10.90  0.33        0\n",
       "MSFT    34.74  0.78        1\n",
       "STLD    21.34  1.45        1\n",
       "TMUS    12.13  0.56        0\n",
       "XEL     10.20  0.30        0"
      ]
     },
     "execution_count": 4,
     "metadata": {},
     "output_type": "execute_result"
    }
   ],
   "source": [
    "clusters = km_model.labels_\n",
    "df['cluster']=clusters\n",
    "df"
   ]
  },
  {
   "cell_type": "markdown",
   "id": "b2e244c5",
   "metadata": {
    "id": "b2e244c5"
   },
   "source": [
    "Now that we have the assigned clusters, we will visualise them using the matplotlib and seaborn libraries as follows:"
   ]
  },
  {
   "cell_type": "code",
   "execution_count": 5,
   "id": "844fde30",
   "metadata": {
    "id": "844fde30",
    "outputId": "024bee83-8c68-4bd1-b31b-3bebcae7fd16"
   },
   "outputs": [
    {
     "data": {
      "image/png": "[encoded data removed]",
      "text/plain": [
       "<Figure size 864x576 with 1 Axes>"
      ]
     },
     "metadata": {},
     "output_type": "display_data"
    }
   ],
   "source": [
    "# Set graph size\n",
    "plt.figure(figsize=(12, 8))\n",
    "\n",
    "# Set x and y axis labels\n",
    "ax = sns.scatterplot(y=\"ROE(%)\", x=\"Beta\", edgecolor='face',\n",
    "                     hue=\"cluster\", data=df, palette='bright', \n",
    "                     s=60)\n",
    "\n",
    "# Plot the graph\n",
    "plt.xlabel('Beta', size=17)\n",
    "plt.ylabel('ROE(%)', size=17)\n",
    "plt.setp(ax.get_legend().get_texts(), fontsize='17')  \n",
    "plt.setp(ax.get_legend().get_title(), fontsize='17')  \n",
    "plt.title('CLUSTERS from k-means algorithm with k = 4', \n",
    "          fontsize='x-large')\n",
    "\n",
    "# Label individual elements\n",
    "for i in range(0, df.shape[0]):\n",
    "    plt.text(df.Beta[i]+0.07, df['ROE(%)'][i]+0.01, df.index[i], \n",
    "             horizontalalignment='right',\n",
    "             verticalalignment='bottom', size='small', \n",
    "             color='black', weight='semibold')"
   ]
  },
  {
   "cell_type": "markdown",
   "id": "ade61c84",
   "metadata": {
    "id": "ade61c84"
   },
   "source": [
    "We can clearly see the difference between the two clusters in the graph above. \n",
    "\n",
    "#### Can you make an analysis on this cluster?\n",
    "\n",
    "Cluster 1 largely consists of all the public utility companies which have a low ROE and low beta compared to high growth tech companies in Cluster 0.\n",
    "\n",
    "Although we did not tell the k-means algorithm about the industry sectors to which the stocks belonged, it was able to discover that structure in the data itself. Therein lies the power and appeal of unsupervised learning.\n",
    "\n",
    "The next question that arises is how to decide the value of hyperparameter k before fitting the model? \n",
    "\n",
    "We passed the value of hyperparameter k=2 on a random basis while fitting the model. \n",
    "\n",
    "What would happen if we had increased the number of clusters?\n",
    "\n",
    "Let's say you took k = 8. Now, k-means algorithm will cumpulsorily try to create 8 clusters. But you know that your data set contains 12 companies, which means some clusters will have only one company. \n",
    "\n",
    "<b>How to find an optimum number of clusters?</b>\n",
    "\n",
    "One of the ways of doing this is to check the model's 'inertia', which represents the distance of points in a cluster from its centroid. As more and more clusters are added, the inertia keeps on decreasing, creating what is called an 'elbow curve'. We select the value of k beyond which we do not see much benefit (i.e., decrement) in the value of inertia. Think about it, if there were 8 clusters, then in the cluster with one company, the inertia would be 0 and there would be no point in having that cluster.\n",
    "\n",
    "Below we plot the inertia values for k-mean models with different values of 'k':"
   ]
  },
  {
   "cell_type": "code",
   "execution_count": 6,
   "id": "5809a3aa",
   "metadata": {
    "id": "5809a3aa",
    "outputId": "63af88fd-f125-41f1-cfa9-af091388289b"
   },
   "outputs": [
    {
     "data": {
      "image/png": "[encoded data removed]",
      "text/plain": [
       "<Figure size 1080x360 with 1 Axes>"
      ]
     },
     "metadata": {},
     "output_type": "display_data"
    }
   ],
   "source": [
    "# Calculating inertia for k-means models with different values\n",
    "# of 'k'\n",
    "inertia = []\n",
    "k_range = range(1,10)\n",
    "for k in k_range:\n",
    "    model = KMeans(n_clusters=k)\n",
    "    model.fit(df)\n",
    "    inertia.append(model.inertia_)\n",
    "\n",
    "# Plotting the 'elbow curve'\n",
    "plt.figure(figsize=(15,5))\n",
    "plt.xlabel('k value',fontsize='x-large')\n",
    "plt.ylabel('Model inertia',fontsize='x-large')\n",
    "plt.plot(k_range,inertia,color='r')\n",
    "plt.show()"
   ]
  },
  {
   "cell_type": "markdown",
   "id": "90439c2b",
   "metadata": {
    "id": "90439c2b"
   },
   "source": [
    "As we can see that the inertia value shows marginal decrement after k= 3, a k-means model with k=3(three clusters) is the most suitable for this task.\n",
    "You can try running the same algorithm but change the parameter to 3 and see how it changes."
   ]
  }
 ],
 "metadata": {
  "colab": {
   "collapsed_sections": [],
   "name": "Chapter 17 - K-Means Clustering.ipynb",
   "provenance": []
  },
  "kernelspec": {
   "display_name": "Python 3 (ipykernel)",
   "language": "python",
   "name": "python3"
  },
  "language_info": {
   "codemirror_mode": {
    "name": "ipython",
    "version": 3
   },
   "file_extension": ".py",
   "mimetype": "text/x-python",
   "name": "python",
   "nbconvert_exporter": "python",
   "pygments_lexer": "ipython3",
   "version": "3.9.5"
  }
 },
 "nbformat": 4,
 "nbformat_minor": 5
}
