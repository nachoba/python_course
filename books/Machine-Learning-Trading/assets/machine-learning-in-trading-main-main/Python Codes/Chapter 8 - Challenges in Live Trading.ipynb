{
 "cells": [
  {
   "cell_type": "markdown",
   "metadata": {
    "id": "kt3XrWfSrQM-"
   },
   "source": [
    "When you are trying to deploy a machine learning model in live trading, you will need to answer some practical questions such as:\n",
    "\n",
    "* How do I save a model for later use?\n",
    "\n",
    "* How do I use an already saved model?\n",
    "\n",
    "* How to handle the data?\n",
    "\n",
    "* When should I retrain the model?\n",
    "\n",
    "Let us go through them one by one.\n",
    "\n",
    "#### How to save a model?\n",
    "\n",
    "Training machine learning models takes a lot of time and resources. So, most traders train their models on weekends, if the model works on daily data. Or if the model works on intraday data, they train it after the close of the market. \n",
    "\n",
    "In both cases, traders use the latest data available to train their models and then save them. These models are later retrieved and used to make predictions while trading. This process saves both time and resources. You can use the pickle library to save a model once it is trained.\n",
    "\n",
    "The `pickle` module implements a fundamental, but powerful algorithm for saving and loading a Python object structure. The process of saving is known as “Serialization” and the process of loading is called “De-serialization”. \n",
    "\n",
    "Saving ⇒ Serialization\n",
    "Loading ⇒ De-Serialization\n",
    "\n",
    "When you save any object using pickle, that object will be converted into a byte stream of 1s and 0s, and then saved. When you want to load a pickled object then an inverse operation takes place, whereby a byte stream is converted back into an object. There are a couple of things that you need to remember when saving an object using pickle.\n",
    "<br>\n",
    "\n",
    "---\n",
    "\n",
    "\n",
    "\n",
    "\tThings to remember while serialization or deserialization\n",
    "\n",
    "<b>Python Version Compatibility</b>\n",
    "\n",
    "When (de)serializing objects you need to use the same version of  Python, as the process used is different in different versions and this might result in errors.\n",
    "\n",
    "<b>Security</b>\n",
    "\n",
    "Pickle data can be altered to insert malicious code, so it is not recommended to restore data from unauthenticated sources.\n",
    "\n",
    "Let us save the model. Before you save the model, you need to decide on two parameters:\n",
    "\n",
    "<b>What do you want to save? </br>\n",
    "How do you want to save it? </b>\n",
    "\n",
    "In the code shown here, we have created a simple function called `save_model` which takes these two parameters as inputs and saves the model.\n",
    "\n",
    "In a simulation, we will be saving the trained model multiple times. So we create a function called `save_model` to handle this repetitive step. This function takes the model name and model's saved name as its input, and saves the model in a binary file since the machine could be local, remote or a de-located file system. \n",
    "\n",
    "Right now, we will assume we are saving the file on a local system. \n",
    "\n",
    "The `save_model` function opens a file in the local machine using the variable `model_pickled_name`. Here the keyword ‘wb’, or ‘write binary’, implies that Python will overwrite the file, if it already exists or creates a new one if it doesn’t. Then the dump command of the `pickle` library is used to write the model to the specified destination. \n",
    "\n",
    "Apart from the `pickle` library, you can also use `joblib` and JSON libraries to save your models. The `joblib` library is very efficient compared to the `pickle` library when saving objects containing large data. On the other hand, JSON saves a model in a string format which is easier for humans to read."
   ]
  },
  {
   "cell_type": "code",
   "execution_count": null,
   "metadata": {
    "id": "qrRbPeARrQNF"
   },
   "outputs": [],
   "source": [
    "def save_model(model_name, model_saved_name):\n",
    "    # Open a file with the mentioned name on the local machine\n",
    "    with open(model_saved_name, 'wb') as model_save:\n",
    "        # Use the dump command to save it\n",
    "        pickle.dump(model_name, model_save)"
   ]
  },
  {
   "cell_type": "markdown",
   "metadata": {
    "id": "PftQxozPrQNH"
   },
   "source": [
    "In this example, we run this `save_model` function and it saves the model in the local machine with the name `model_pickle` as shown."
   ]
  },
  {
   "cell_type": "code",
   "execution_count": null,
   "metadata": {
    "id": "EJPuvGWUrQNI"
   },
   "outputs": [],
   "source": [
    "model_saved_name = 'model_save.pkl'\n",
    "save_model(model, model_saved_name)"
   ]
  },
  {
   "cell_type": "markdown",
   "metadata": {
    "id": "dFOofI92rQNJ"
   },
   "source": [
    "\n",
    "\n",
    "---\n",
    "\n",
    "\n",
    "#### Load a Model\n",
    "\n",
    "Once you have saved the model, you can access the model on your local machine by using the `load_model` function. This function takes the name of the pickled model as its input and loads that model. \n",
    "\n",
    "We will be loading the trained model at every data point."
   ]
  },
  {
   "cell_type": "code",
   "execution_count": null,
   "metadata": {
    "id": "eAW1c2uerQNJ"
   },
   "outputs": [],
   "source": [
    "def load_model(model_saved_name):\n",
    "    # Open the file containing the model with the mentioned name\n",
    "    # on the local machine\n",
    "    with open(model_saved_name, 'rb') as file:\n",
    "        # Load the model and assign it to a variable\n",
    "        model = pickle.load(file)\n",
    "        # Return the model\n",
    "        return model"
   ]
  },
  {
   "cell_type": "markdown",
   "metadata": {
    "id": "CnbJKIGHrQNL"
   },
   "source": [
    "\n",
    "\n",
    "---\n",
    "\n",
    "\n",
    "#### How to handle the data?<br>\n",
    "\n",
    "To train machine learning-based trading models we require a lot of data. Downloading data from an online source every time you want to train a model takes a lot of time. To avoid this, the old data that you used to train the initial model must be saved on your local machine, and the new data can be added to this file at the end of trading every day. The new data can be appended to the existing data using the pandas append function."
   ]
  },
  {
   "cell_type": "code",
   "execution_count": null,
   "metadata": {
    "id": "rwjEQwlTrQNM"
   },
   "outputs": [],
   "source": [
    "Updated_data = Old_data.append(current_day_OHLC , ignore_index=True)\n",
    "Updated_data.to_csv(“Data.csv”)"
   ]
  },
  {
   "cell_type": "markdown",
   "metadata": {
    "id": "AjmqawJ5rQNO"
   },
   "source": [
    "---\n",
    "\n",
    "\n",
    "\n",
    "#### When do you retrain the model?\n",
    "\n",
    "We need to retrain a model whenever its performance goes bad. \n",
    "\n",
    "You can decide when to retrain a model based on its performance metrics such as:\n",
    "\n",
    "#### 1. Capital Loss\n",
    "\n",
    "Let us say that you want to retrain a model based on its capital loss. Then you need to track the profit and loss (or PnL) of the strategy at every time period, such as every day or a minute.\n",
    "\n",
    "If the PnL falls below a certain limit, then you will retrain it.\n",
    "\n",
    "If the model has initially made a profit of 100 dollars, and then it has lost 5 dollars, which is the cutoff criteria in this case.\n",
    "\n",
    "After the cutoff criterion is triggered, we will stop trading and then retrain the model.\n",
    "\n",
    "This cutoff criteria is decided by a trader, depending on his or her own risk appetite.\n",
    "\n",
    "#### 2. Accuracy\n",
    "\n",
    "This is another criteria that can used to decide whether to retrain a model or not.\n",
    "\n",
    "Let us say that you have set 55% accuracy as the criterion for retraining a model.\n",
    "\n",
    "Whenever the model’s accuracy falls below the 55% mark, you retrain it.\n",
    "\n",
    "In addition to these two approaches, you can retrain your model as often as possible, regardless of the model’s performance. However, make sure your model is not overfitted.\n",
    "\n",
    "This will create a model that is trained on the latest available data at all times.\n",
    "\n",
    "When you want to retrain a model, you need to perform many tasks such as creating the features, training the model and saving it.\n",
    "\n",
    "To do these multiple tasks, we created a simple function called `create_new_model`. This function takes the raw data and the saved name of the model as input."
   ]
  },
  {
   "cell_type": "code",
   "execution_count": null,
   "metadata": {
    "id": "Xv6MZSKvrQNP",
    "scrolled": true
   },
   "outputs": [],
   "source": [
    "def create_new_model(data, model_saved_name):\n",
    "    # Create a feature from the raw data\n",
    "    X, y = create_features(data)\n",
    "    # Train the model on the features generated\n",
    "    model = train_model(X, y)\n",
    "    # Save the model on the local machine\n",
    "    save_model(model, model_saved_name)"
   ]
  },
  {
   "cell_type": "markdown",
   "metadata": {
    "id": "Aij_k9wMrQNQ"
   },
   "source": [
    "In this way, you should take care that your machine learning model is performing according to your expectations. Remember, there might be occasions where your model's performance might start deteriorating. Do not hesitate in pausing your trading until you have modified the strategy to perform as per your expectations. \n",
    "\n",
    "Great! we have finally implemented a machine learning model from start to end.\n",
    "\n",
    "So far, you have studied the classification-based machine learning model. This is a type of supervised learning algorithm. This brings us to the end of the second part of the book. In the next part, you will see other types of machine learning algorithms.\n",
    "\n",
    "\n",
    "\n",
    "---\n",
    "\n",
    "\n",
    "\n",
    "#### Additional Reading\n",
    "\n",
    "1. A Practical Guide to Feature Engineering in Python - https://heartbeat.fritz.ai/a-practical-guide-to-feature-engineering-in-python-8326e40747c8\n",
    "2. Data & Feature Engineering for Trading [Course] - https://quantra.quantinsti.com/course/data-and-feature-engineering-for-trading\n",
    "3. Best Input for Financial Models - https://davidzhao12.medium.com/advances-in-financial-machine-learning-for-dummies-part-1-7913aa7226f5\n",
    "4. Top 9 Feature Engineering Techniques with Python - https://rubikscode.net/2021/06/29/top-9-feature-engineering-techniques/\n",
    "5. Data Labelling: The Triple-barrier Method - https://towardsdatascience.com/the-triple-barrier-method-251268419dcd\n",
    "6. How to Use StandardScaler and MinMaxScaler Transforms in Python - https://machinelearningmastery.com/standardscaler-and-minmaxscaler-transforms-in-python/\n",
    "7. What is the ideal ratio of in-sample length to out-of-sample length? - https://quant.stackexchange.com/questions/1480/what-is-the-ideal-ratio-of-in-sample-length-to-out-of-sample-length\n",
    "8. Data normalization before or after train-test split? - https://datascience.stackexchange.com/questions/54908/data-normalization-before-or-after-train-test-split\n",
    "9. Cross Validation In Machine Learning Trading Models - https://blog.quantinsti.com/cross-validation-machine-learning-trading-models/\n",
    "10. Cross Validation in Finance: Purging, Embargoing, Combination - https://blog.quantinsti.com/cross-validation-embargo-purging-combinatorial/\n",
    "11. How to Choose Right Metric for Evaluating ML Model - https://www.kaggle.com/vipulgandhi/how-to-choose-right-metric-for-evaluating-ml-model\n",
    "12. Choosing the Right Metric for Evaluating Machine Learning Models — Part 2 - https://www.kdnuggets.com/2018/06/right-metric-evaluating-machine-learning-models-2.html\n",
    "13. How do I evaluate models that predict stock performance? - https://quant.stackexchange.com/questions/33074/strategy-for-backtesting\n",
    "14. What is an acceptable Sharpe Ratio for a prop desk? - https://quant.stackexchange.com/questions/21120/what-is-an-acceptable-sharpe-ratio-for-a-prop-desk/21123#21123\n",
    "15. Doing opposite of what the model says - https://quant.stackexchange.com/questions/35905/doing-opposite-of-what-the-model-says/35906#35906\n",
    "16. Should a model be re-trained if new observations are available? - https://datascience.stackexchange.com/questions/12761/should-a-model-be-re-trained-if-new-observations-are-available"
   ]
  }
 ],
 "metadata": {
  "colab": {
   "collapsed_sections": [],
   "name": "Chapter 7 - Backtesting and Challenges in Live Trading (Part 2).ipynb",
   "provenance": []
  },
  "kernelspec": {
   "display_name": "Python 3 (ipykernel)",
   "language": "python",
   "name": "python3"
  },
  "language_info": {
   "codemirror_mode": {
    "name": "ipython",
    "version": 3
   },
   "file_extension": ".py",
   "mimetype": "text/x-python",
   "name": "python",
   "nbconvert_exporter": "python",
   "pygments_lexer": "ipython3",
   "version": "3.9.5"
  }
 },
 "nbformat": 4,
 "nbformat_minor": 1
}
