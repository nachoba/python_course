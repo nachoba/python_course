{
 "cells": [
  {
   "cell_type": "markdown",
   "id": "c9817f73",
   "metadata": {
    "id": "c9817f73"
   },
   "source": [
    "# Hierarchical Clustering in Trading\n",
    "\n",
    "We will start our strategy by first importing the libraries and the dataset."
   ]
  },
  {
   "cell_type": "code",
   "execution_count": 1,
   "id": "e7215f9c",
   "metadata": {
    "id": "e7215f9c",
    "outputId": "8b056363-7baa-4c33-8706-e1b4e8266785"
   },
   "outputs": [
    {
     "data": {
      "text/html": [
       "<div>\n",
       "<style scoped>\n",
       "    .dataframe tbody tr th:only-of-type {\n",
       "        vertical-align: middle;\n",
       "    }\n",
       "\n",
       "    .dataframe tbody tr th {\n",
       "        vertical-align: top;\n",
       "    }\n",
       "\n",
       "    .dataframe thead th {\n",
       "        text-align: right;\n",
       "    }\n",
       "</style>\n",
       "<table border=\"1\" class=\"dataframe\">\n",
       "  <thead>\n",
       "    <tr style=\"text-align: right;\">\n",
       "      <th></th>\n",
       "      <th>ROE(%)</th>\n",
       "      <th>Beta</th>\n",
       "    </tr>\n",
       "  </thead>\n",
       "  <tbody>\n",
       "    <tr>\n",
       "      <th>ADBE</th>\n",
       "      <td>28.84</td>\n",
       "      <td>0.96</td>\n",
       "    </tr>\n",
       "    <tr>\n",
       "      <th>AEP</th>\n",
       "      <td>10.27</td>\n",
       "      <td>0.26</td>\n",
       "    </tr>\n",
       "    <tr>\n",
       "      <th>CSCO</th>\n",
       "      <td>22.53</td>\n",
       "      <td>0.89</td>\n",
       "    </tr>\n",
       "    <tr>\n",
       "      <th>EXC</th>\n",
       "      <td>8.57</td>\n",
       "      <td>0.43</td>\n",
       "    </tr>\n",
       "    <tr>\n",
       "      <th>FB</th>\n",
       "      <td>22.18</td>\n",
       "      <td>1.29</td>\n",
       "    </tr>\n",
       "    <tr>\n",
       "      <th>GOOGL</th>\n",
       "      <td>15.19</td>\n",
       "      <td>1.00</td>\n",
       "    </tr>\n",
       "    <tr>\n",
       "      <th>INTC</th>\n",
       "      <td>23.77</td>\n",
       "      <td>0.59</td>\n",
       "    </tr>\n",
       "    <tr>\n",
       "      <th>LNT</th>\n",
       "      <td>10.90</td>\n",
       "      <td>0.33</td>\n",
       "    </tr>\n",
       "    <tr>\n",
       "      <th>MSFT</th>\n",
       "      <td>34.74</td>\n",
       "      <td>0.78</td>\n",
       "    </tr>\n",
       "    <tr>\n",
       "      <th>STLD</th>\n",
       "      <td>21.34</td>\n",
       "      <td>1.45</td>\n",
       "    </tr>\n",
       "    <tr>\n",
       "      <th>TMUS</th>\n",
       "      <td>12.13</td>\n",
       "      <td>0.56</td>\n",
       "    </tr>\n",
       "    <tr>\n",
       "      <th>XEL</th>\n",
       "      <td>10.20</td>\n",
       "      <td>0.30</td>\n",
       "    </tr>\n",
       "  </tbody>\n",
       "</table>\n",
       "</div>"
      ],
      "text/plain": [
       "       ROE(%)  Beta\n",
       "ADBE    28.84  0.96\n",
       "AEP     10.27  0.26\n",
       "CSCO    22.53  0.89\n",
       "EXC      8.57  0.43\n",
       "FB      22.18  1.29\n",
       "GOOGL   15.19  1.00\n",
       "INTC    23.77  0.59\n",
       "LNT     10.90  0.33\n",
       "MSFT    34.74  0.78\n",
       "STLD    21.34  1.45\n",
       "TMUS    12.13  0.56\n",
       "XEL     10.20  0.30"
      ]
     },
     "execution_count": 1,
     "metadata": {},
     "output_type": "execute_result"
    }
   ],
   "source": [
    "# Data manipulation\n",
    "import numpy as np\n",
    "import pandas as pd\n",
    "\n",
    "# Technical indicators\n",
    "import talib as ta\n",
    "\n",
    "# Plotting graphs\n",
    "import seaborn as sns\n",
    "import matplotlib.pyplot as plt\n",
    "%matplotlib inline\n",
    "plt.style.use('seaborn-darkgrid')\n",
    "\n",
    "# Machine learning\n",
    "# Scaling the data\n",
    "from sklearn.preprocessing import StandardScaler\n",
    "\n",
    "from sklearn import metrics\n",
    "import scipy.cluster.hierarchy as sc\n",
    "from sklearn.cluster import AgglomerativeClustering\n",
    "\n",
    "# The data is stored in the directory 'data_modules'\n",
    "path = \"../data_modules/\"\n",
    "\n",
    "# Read the data\n",
    "DF = pd.read_csv(path + 'sample_stocks.csv', index_col=0)\n",
    "DF"
   ]
  },
  {
   "cell_type": "markdown",
   "id": "168256e1",
   "metadata": {
    "id": "168256e1"
   },
   "source": [
    "We will scale the data as well."
   ]
  },
  {
   "cell_type": "code",
   "execution_count": 2,
   "id": "e356f6bd",
   "metadata": {
    "id": "e356f6bd",
    "outputId": "25325f2f-24f3-4e3a-ce4e-425f7dcb9f17"
   },
   "outputs": [
    {
     "name": "stdout",
     "output_type": "stream",
     "text": [
      "[[ 1.29583307  0.59517359]\n",
      " [-1.00653849 -1.27029587]\n",
      " [ 0.51349787  0.40862664]\n",
      " [-1.21731025 -0.81725329]\n",
      " [ 0.47010369  1.4746092 ]\n",
      " [-0.39654021  0.70177185]\n",
      " [ 0.66723728 -0.39086027]\n",
      " [-0.92842895 -1.08374893]\n",
      " [ 2.02733507  0.11548144]\n",
      " [ 0.36595764  1.90100222]\n",
      " [-0.77592938 -0.47080896]\n",
      " [-1.01521733 -1.16369762]]\n"
     ]
    }
   ],
   "source": [
    "# Making a copy to work with\n",
    "df = DF.copy()\n",
    "\n",
    "scaler = StandardScaler()\n",
    "df_values = scaler.fit_transform(df.values)\n",
    "\n",
    "# Printing pre-processed data\n",
    "print(df_values)"
   ]
  },
  {
   "cell_type": "markdown",
   "id": "78f8a785",
   "metadata": {
    "id": "78f8a785"
   },
   "source": [
    "#### Create a Dendrogram\n",
    "\n",
    "We start by importing the library that will help to create dendrograms. Dendrogram helps to give a rough idea of the number of clusters."
   ]
  },
  {
   "cell_type": "code",
   "execution_count": 3,
   "id": "3b35599e",
   "metadata": {
    "id": "3b35599e",
    "outputId": "59e2ea9f-451a-411a-d1c9-d07db2eb4a25"
   },
   "outputs": [
    {
     "data": {
      "image/png": "[encoded data removed]",
      "text/plain": [
       "<Figure size 576x360 with 1 Axes>"
      ]
     },
     "metadata": {},
     "output_type": "display_data"
    }
   ],
   "source": [
    "# Plot a dendrogram\n",
    "plt.figure(figsize=(8, 5))  \n",
    "plt.title(\"Dendrograms\")  \n",
    "\n",
    "# Create a dendrogram\n",
    "sc.dendrogram(sc.linkage(df, method='ward'),labels=df.index)\n",
    "\n",
    "plt.title('Dendrogram')\n",
    "plt.xlabel('Sample index')\n",
    "plt.ylabel('Euclidean distance')\n",
    "plt.show()"
   ]
  },
  {
   "cell_type": "markdown",
   "id": "fd3e2f27",
   "metadata": {
    "id": "fd3e2f27"
   },
   "source": [
    "By looking at the above dendrogram, we divide the data into two clusters.\n",
    "\n",
    "#### Fit the Model\n",
    "\n",
    "We instantiate the AgglomerativeClustering. We will then pass the Euclidean distance as the measure of the distance between points and Ward linkage to calculate clusters' proximity.Then we fit the model on our data points. Finally, we return an array of integers where the values correspond to the distinct categories using lables_ property."
   ]
  },
  {
   "cell_type": "code",
   "execution_count": 4,
   "id": "47e5c68e",
   "metadata": {
    "id": "47e5c68e",
    "outputId": "019fb228-81be-46e0-c259-4a0db46b98c4"
   },
   "outputs": [
    {
     "data": {
      "text/html": [
       "<div>\n",
       "<style scoped>\n",
       "    .dataframe tbody tr th:only-of-type {\n",
       "        vertical-align: middle;\n",
       "    }\n",
       "\n",
       "    .dataframe tbody tr th {\n",
       "        vertical-align: top;\n",
       "    }\n",
       "\n",
       "    .dataframe thead th {\n",
       "        text-align: right;\n",
       "    }\n",
       "</style>\n",
       "<table border=\"1\" class=\"dataframe\">\n",
       "  <thead>\n",
       "    <tr style=\"text-align: right;\">\n",
       "      <th></th>\n",
       "      <th>ROE(%)</th>\n",
       "      <th>Beta</th>\n",
       "      <th>labels</th>\n",
       "    </tr>\n",
       "  </thead>\n",
       "  <tbody>\n",
       "    <tr>\n",
       "      <th>ADBE</th>\n",
       "      <td>28.84</td>\n",
       "      <td>0.96</td>\n",
       "      <td>0</td>\n",
       "    </tr>\n",
       "    <tr>\n",
       "      <th>AEP</th>\n",
       "      <td>10.27</td>\n",
       "      <td>0.26</td>\n",
       "      <td>1</td>\n",
       "    </tr>\n",
       "    <tr>\n",
       "      <th>CSCO</th>\n",
       "      <td>22.53</td>\n",
       "      <td>0.89</td>\n",
       "      <td>0</td>\n",
       "    </tr>\n",
       "    <tr>\n",
       "      <th>EXC</th>\n",
       "      <td>8.57</td>\n",
       "      <td>0.43</td>\n",
       "      <td>1</td>\n",
       "    </tr>\n",
       "    <tr>\n",
       "      <th>FB</th>\n",
       "      <td>22.18</td>\n",
       "      <td>1.29</td>\n",
       "      <td>0</td>\n",
       "    </tr>\n",
       "    <tr>\n",
       "      <th>GOOGL</th>\n",
       "      <td>15.19</td>\n",
       "      <td>1.00</td>\n",
       "      <td>0</td>\n",
       "    </tr>\n",
       "    <tr>\n",
       "      <th>INTC</th>\n",
       "      <td>23.77</td>\n",
       "      <td>0.59</td>\n",
       "      <td>0</td>\n",
       "    </tr>\n",
       "    <tr>\n",
       "      <th>LNT</th>\n",
       "      <td>10.90</td>\n",
       "      <td>0.33</td>\n",
       "      <td>1</td>\n",
       "    </tr>\n",
       "    <tr>\n",
       "      <th>MSFT</th>\n",
       "      <td>34.74</td>\n",
       "      <td>0.78</td>\n",
       "      <td>0</td>\n",
       "    </tr>\n",
       "    <tr>\n",
       "      <th>STLD</th>\n",
       "      <td>21.34</td>\n",
       "      <td>1.45</td>\n",
       "      <td>0</td>\n",
       "    </tr>\n",
       "    <tr>\n",
       "      <th>TMUS</th>\n",
       "      <td>12.13</td>\n",
       "      <td>0.56</td>\n",
       "      <td>1</td>\n",
       "    </tr>\n",
       "    <tr>\n",
       "      <th>XEL</th>\n",
       "      <td>10.20</td>\n",
       "      <td>0.30</td>\n",
       "      <td>1</td>\n",
       "    </tr>\n",
       "  </tbody>\n",
       "</table>\n",
       "</div>"
      ],
      "text/plain": [
       "       ROE(%)  Beta  labels\n",
       "ADBE    28.84  0.96       0\n",
       "AEP     10.27  0.26       1\n",
       "CSCO    22.53  0.89       0\n",
       "EXC      8.57  0.43       1\n",
       "FB      22.18  1.29       0\n",
       "GOOGL   15.19  1.00       0\n",
       "INTC    23.77  0.59       0\n",
       "LNT     10.90  0.33       1\n",
       "MSFT    34.74  0.78       0\n",
       "STLD    21.34  1.45       0\n",
       "TMUS    12.13  0.56       1\n",
       "XEL     10.20  0.30       1"
      ]
     },
     "execution_count": 4,
     "metadata": {},
     "output_type": "execute_result"
    }
   ],
   "source": [
    "# Instantiate the clustering algorithm\n",
    "cluster = AgglomerativeClustering(\n",
    "    n_clusters=2, affinity='euclidean', linkage='ward')\n",
    "\n",
    "# Using the fit function\n",
    "cluster.fit(df_values) \n",
    "DF['labels']=cluster.labels_\n",
    "DF"
   ]
  },
  {
   "cell_type": "markdown",
   "id": "74499ab8",
   "metadata": {
    "id": "74499ab8"
   },
   "source": [
    "#### Pros and Cons of Hierarchical Clustering\n",
    "\n",
    "1. Like K-means clustering, we don't need to specify the number of clusters required for the algorithm.\n",
    "\n",
    "2. It doesn’t work well on a large dataset. It is generally applicable to a smaller data. If you have a large dataset, it can become difficult to determine the correct number of clusters by the dendrogram.\n",
    "\n",
    "3. In comparison to K-means, hierarchical clustering is computationally heavy and takes longer time to run.\n",
    "\n",
    "#### Conclusion\n",
    "\n",
    "Despite the limitations of hierarchical clustering when it comes to large datasets, it is still a great tool to deal with small to medium dataset and find patterns in them."
   ]
  }
 ],
 "metadata": {
  "colab": {
   "collapsed_sections": [],
   "name": "Chapter 18 - Hierarchical Clustering in Python.ipynb",
   "provenance": []
  },
  "kernelspec": {
   "display_name": "Python 3 (ipykernel)",
   "language": "python",
   "name": "python3"
  },
  "language_info": {
   "codemirror_mode": {
    "name": "ipython",
    "version": 3
   },
   "file_extension": ".py",
   "mimetype": "text/x-python",
   "name": "python",
   "nbconvert_exporter": "python",
   "pygments_lexer": "ipython3",
   "version": "3.9.5"
  }
 },
 "nbformat": 4,
 "nbformat_minor": 5
}
