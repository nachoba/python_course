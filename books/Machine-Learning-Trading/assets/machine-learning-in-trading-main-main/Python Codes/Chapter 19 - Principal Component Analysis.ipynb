{
 "cells": [
  {
   "cell_type": "markdown",
   "id": "f44d239c",
   "metadata": {
    "id": "a11a3285",
    "outputId": "fd80ff31-28fd-402d-d4f6-db4b50a98686"
   },
   "source": [
    "# Principal Component Analysis in Python"
   ]
  },
  {
   "cell_type": "code",
   "execution_count": 1,
   "id": "ca4d965e",
   "metadata": {},
   "outputs": [
    {
     "data": {
      "text/html": [
       "<div>\n",
       "<style scoped>\n",
       "    .dataframe tbody tr th:only-of-type {\n",
       "        vertical-align: middle;\n",
       "    }\n",
       "\n",
       "    .dataframe tbody tr th {\n",
       "        vertical-align: top;\n",
       "    }\n",
       "\n",
       "    .dataframe thead th {\n",
       "        text-align: right;\n",
       "    }\n",
       "</style>\n",
       "<table border=\"1\" class=\"dataframe\">\n",
       "  <thead>\n",
       "    <tr style=\"text-align: right;\">\n",
       "      <th></th>\n",
       "      <th>GOOG</th>\n",
       "      <th>GOOGL</th>\n",
       "      <th>AMZN</th>\n",
       "      <th>MA</th>\n",
       "      <th>BA</th>\n",
       "      <th>C</th>\n",
       "      <th>ABT</th>\n",
       "      <th>CRM</th>\n",
       "      <th>COST</th>\n",
       "      <th>ACN</th>\n",
       "      <th>AVGO</th>\n",
       "      <th>MMM</th>\n",
       "      <th>CVS</th>\n",
       "      <th>FIS</th>\n",
       "      <th>SYK</th>\n",
       "      <th>MDLZ</th>\n",
       "      <th>CI</th>\n",
       "      <th>CME</th>\n",
       "      <th>ISRG</th>\n",
       "      <th>COP</th>\n",
       "    </tr>\n",
       "    <tr>\n",
       "      <th>Date</th>\n",
       "      <th></th>\n",
       "      <th></th>\n",
       "      <th></th>\n",
       "      <th></th>\n",
       "      <th></th>\n",
       "      <th></th>\n",
       "      <th></th>\n",
       "      <th></th>\n",
       "      <th></th>\n",
       "      <th></th>\n",
       "      <th></th>\n",
       "      <th></th>\n",
       "      <th></th>\n",
       "      <th></th>\n",
       "      <th></th>\n",
       "      <th></th>\n",
       "      <th></th>\n",
       "      <th></th>\n",
       "      <th></th>\n",
       "      <th></th>\n",
       "    </tr>\n",
       "  </thead>\n",
       "  <tbody>\n",
       "    <tr>\n",
       "      <th>2018-01-02</th>\n",
       "      <td>1065.000000</td>\n",
       "      <td>1073.209961</td>\n",
       "      <td>1189.010010</td>\n",
       "      <td>148.906738</td>\n",
       "      <td>282.886383</td>\n",
       "      <td>66.456902</td>\n",
       "      <td>55.270180</td>\n",
       "      <td>104.410004</td>\n",
       "      <td>177.262619</td>\n",
       "      <td>145.510391</td>\n",
       "      <td>231.258133</td>\n",
       "      <td>209.198364</td>\n",
       "      <td>65.703430</td>\n",
       "      <td>90.138031</td>\n",
       "      <td>151.780838</td>\n",
       "      <td>39.286922</td>\n",
       "      <td>200.766891</td>\n",
       "      <td>131.867477</td>\n",
       "      <td>375.250000</td>\n",
       "      <td>49.867218</td>\n",
       "    </tr>\n",
       "    <tr>\n",
       "      <th>2018-01-03</th>\n",
       "      <td>1082.479980</td>\n",
       "      <td>1091.520020</td>\n",
       "      <td>1204.199951</td>\n",
       "      <td>150.778992</td>\n",
       "      <td>283.801239</td>\n",
       "      <td>66.662445</td>\n",
       "      <td>55.392387</td>\n",
       "      <td>105.290001</td>\n",
       "      <td>179.389923</td>\n",
       "      <td>146.181931</td>\n",
       "      <td>233.787170</td>\n",
       "      <td>209.189468</td>\n",
       "      <td>65.417442</td>\n",
       "      <td>90.667137</td>\n",
       "      <td>152.636368</td>\n",
       "      <td>39.444405</td>\n",
       "      <td>204.136826</td>\n",
       "      <td>133.980453</td>\n",
       "      <td>383.820007</td>\n",
       "      <td>50.786686</td>\n",
       "    </tr>\n",
       "    <tr>\n",
       "      <th>2018-01-04</th>\n",
       "      <td>1086.400024</td>\n",
       "      <td>1095.760010</td>\n",
       "      <td>1209.589966</td>\n",
       "      <td>152.729645</td>\n",
       "      <td>282.724396</td>\n",
       "      <td>67.484688</td>\n",
       "      <td>55.298374</td>\n",
       "      <td>106.680000</td>\n",
       "      <td>177.996857</td>\n",
       "      <td>147.912842</td>\n",
       "      <td>233.865082</td>\n",
       "      <td>211.923889</td>\n",
       "      <td>67.142265</td>\n",
       "      <td>91.340523</td>\n",
       "      <td>152.588287</td>\n",
       "      <td>39.537041</td>\n",
       "      <td>205.207260</td>\n",
       "      <td>135.410294</td>\n",
       "      <td>376.920013</td>\n",
       "      <td>51.372623</td>\n",
       "    </tr>\n",
       "    <tr>\n",
       "      <th>2018-01-05</th>\n",
       "      <td>1102.229980</td>\n",
       "      <td>1110.290039</td>\n",
       "      <td>1229.140015</td>\n",
       "      <td>155.895767</td>\n",
       "      <td>294.322296</td>\n",
       "      <td>67.395294</td>\n",
       "      <td>55.458187</td>\n",
       "      <td>108.099998</td>\n",
       "      <td>176.726089</td>\n",
       "      <td>149.132996</td>\n",
       "      <td>235.250839</td>\n",
       "      <td>213.575165</td>\n",
       "      <td>70.109261</td>\n",
       "      <td>91.859985</td>\n",
       "      <td>154.818405</td>\n",
       "      <td>40.046532</td>\n",
       "      <td>208.686172</td>\n",
       "      <td>136.293716</td>\n",
       "      <td>379.010010</td>\n",
       "      <td>51.273472</td>\n",
       "    </tr>\n",
       "    <tr>\n",
       "      <th>2018-01-08</th>\n",
       "      <td>1106.939941</td>\n",
       "      <td>1114.209961</td>\n",
       "      <td>1246.869995</td>\n",
       "      <td>156.367020</td>\n",
       "      <td>295.570740</td>\n",
       "      <td>66.608818</td>\n",
       "      <td>55.298374</td>\n",
       "      <td>108.860001</td>\n",
       "      <td>177.413223</td>\n",
       "      <td>150.324783</td>\n",
       "      <td>235.813828</td>\n",
       "      <td>212.882675</td>\n",
       "      <td>69.501572</td>\n",
       "      <td>92.090866</td>\n",
       "      <td>156.933121</td>\n",
       "      <td>39.842739</td>\n",
       "      <td>206.376816</td>\n",
       "      <td>138.188080</td>\n",
       "      <td>391.859985</td>\n",
       "      <td>51.796291</td>\n",
       "    </tr>\n",
       "  </tbody>\n",
       "</table>\n",
       "</div>"
      ],
      "text/plain": [
       "                   GOOG        GOOGL         AMZN          MA          BA  \\\n",
       "Date                                                                        \n",
       "2018-01-02  1065.000000  1073.209961  1189.010010  148.906738  282.886383   \n",
       "2018-01-03  1082.479980  1091.520020  1204.199951  150.778992  283.801239   \n",
       "2018-01-04  1086.400024  1095.760010  1209.589966  152.729645  282.724396   \n",
       "2018-01-05  1102.229980  1110.290039  1229.140015  155.895767  294.322296   \n",
       "2018-01-08  1106.939941  1114.209961  1246.869995  156.367020  295.570740   \n",
       "\n",
       "                    C        ABT         CRM        COST         ACN  \\\n",
       "Date                                                                   \n",
       "2018-01-02  66.456902  55.270180  104.410004  177.262619  145.510391   \n",
       "2018-01-03  66.662445  55.392387  105.290001  179.389923  146.181931   \n",
       "2018-01-04  67.484688  55.298374  106.680000  177.996857  147.912842   \n",
       "2018-01-05  67.395294  55.458187  108.099998  176.726089  149.132996   \n",
       "2018-01-08  66.608818  55.298374  108.860001  177.413223  150.324783   \n",
       "\n",
       "                  AVGO         MMM        CVS        FIS         SYK  \\\n",
       "Date                                                                   \n",
       "2018-01-02  231.258133  209.198364  65.703430  90.138031  151.780838   \n",
       "2018-01-03  233.787170  209.189468  65.417442  90.667137  152.636368   \n",
       "2018-01-04  233.865082  211.923889  67.142265  91.340523  152.588287   \n",
       "2018-01-05  235.250839  213.575165  70.109261  91.859985  154.818405   \n",
       "2018-01-08  235.813828  212.882675  69.501572  92.090866  156.933121   \n",
       "\n",
       "                 MDLZ          CI         CME        ISRG        COP  \n",
       "Date                                                                  \n",
       "2018-01-02  39.286922  200.766891  131.867477  375.250000  49.867218  \n",
       "2018-01-03  39.444405  204.136826  133.980453  383.820007  50.786686  \n",
       "2018-01-04  39.537041  205.207260  135.410294  376.920013  51.372623  \n",
       "2018-01-05  40.046532  208.686172  136.293716  379.010010  51.273472  \n",
       "2018-01-08  39.842739  206.376816  138.188080  391.859985  51.796291  "
      ]
     },
     "execution_count": 1,
     "metadata": {},
     "output_type": "execute_result"
    }
   ],
   "source": [
    "# Data manipulation\n",
    "import numpy as np\n",
    "import pandas as pd\n",
    "\n",
    "# Technical indicators\n",
    "import talib as ta\n",
    "\n",
    "# Plotting the graphs\n",
    "import matplotlib.pyplot as plt\n",
    "\n",
    "# Importing the machine learning libraries\n",
    "from sklearn.decomposition import PCA\n",
    "from sklearn.cluster import KMeans, DBSCAN\n",
    "from sklearn.manifold import TSNE\n",
    "from sklearn import preprocessing\n",
    "from statsmodels.tsa.stattools import coint\n",
    "\n",
    "# The data is stored in the directory 'data_modules'\n",
    "path = \"../data_modules/\"\n",
    "\n",
    "# Import the dataset\n",
    "df = pd.read_csv(path + \"pca.csv\", index_col=0)\n",
    "df.head()"
   ]
  },
  {
   "cell_type": "markdown",
   "id": "e525e78f",
   "metadata": {
    "id": "e525e78f"
   },
   "source": [
    "Since we will be working on daily returns, we write the code as follows:"
   ]
  },
  {
   "cell_type": "code",
   "execution_count": 2,
   "id": "51c0ccc0",
   "metadata": {
    "id": "51c0ccc0"
   },
   "outputs": [],
   "source": [
    "data_daily_returns = df.pct_change()\n",
    "data_daily_returns.dropna(inplace=True)"
   ]
  },
  {
   "cell_type": "markdown",
   "id": "cbe647e6",
   "metadata": {
    "id": "cbe647e6"
   },
   "source": [
    "If we have to check the number of rows and columns of the array, we use the following code:"
   ]
  },
  {
   "cell_type": "code",
   "execution_count": 3,
   "id": "85409dcb",
   "metadata": {
    "id": "85409dcb",
    "outputId": "de67d986-d98e-4ad0-b4cd-4329b29aa23b"
   },
   "outputs": [
    {
     "data": {
      "text/plain": [
       "(501, 20)"
      ]
     },
     "execution_count": 3,
     "metadata": {},
     "output_type": "execute_result"
    }
   ],
   "source": [
    "data_daily_returns.shape"
   ]
  },
  {
   "cell_type": "markdown",
   "id": "1b8adba4",
   "metadata": {
    "id": "1b8adba4"
   },
   "source": [
    "Here, we understand that there are 20 columns corresponding to the number of companies we have selected and 501 is the data points we have of each company. Moving ahead, we will now use the Principal Component Analysis code. Since we are trying to reduce the variables, let’s keep the number of Principal components as 18."
   ]
  },
  {
   "cell_type": "code",
   "execution_count": 4,
   "id": "39c4ec67",
   "metadata": {
    "id": "39c4ec67",
    "outputId": "da0f59ec-b7af-45bf-aae6-ed48c56f1471"
   },
   "outputs": [
    {
     "data": {
      "text/plain": [
       "PCA(n_components=18)"
      ]
     },
     "execution_count": 4,
     "metadata": {},
     "output_type": "execute_result"
    }
   ],
   "source": [
    "N_PRIN_COMPONENTS = 18\n",
    "pca = PCA(n_components=N_PRIN_COMPONENTS)\n",
    "pca.fit(data_daily_returns)"
   ]
  },
  {
   "cell_type": "markdown",
   "id": "142e86b6",
   "metadata": {
    "id": "142e86b6"
   },
   "source": [
    "You can check the number of rows and columns in the array with the “shape” command. "
   ]
  },
  {
   "cell_type": "code",
   "execution_count": 5,
   "id": "7fbab20b",
   "metadata": {
    "id": "7fbab20b",
    "outputId": "d3664bf1-d7b8-40db-d084-154294fcb9a7"
   },
   "outputs": [
    {
     "data": {
      "text/plain": [
       "(20, 18)"
      ]
     },
     "execution_count": 5,
     "metadata": {},
     "output_type": "execute_result"
    }
   ],
   "source": [
    "pre_process = pca.components_.T \n",
    "pre_process.shape"
   ]
  },
  {
   "cell_type": "markdown",
   "id": "1df78d6a",
   "metadata": {
    "id": "1df78d6a"
   },
   "source": [
    "You can see that we have gone from 501 to 20. Now, we have to use this for trading. First we will scale the data."
   ]
  },
  {
   "cell_type": "code",
   "execution_count": 6,
   "id": "7dc56e00",
   "metadata": {
    "id": "7dc56e00",
    "outputId": "b025ba2e-e958-4b64-a70c-188893d37fad"
   },
   "outputs": [
    {
     "name": "stdout",
     "output_type": "stream",
     "text": [
      "(20, 18)\n"
     ]
    }
   ],
   "source": [
    "# Using transpose on the dataset\n",
    "X = pca.components_.T\n",
    "X.shape\n",
    "\n",
    "# Scaling the dataset\n",
    "X = preprocessing.StandardScaler().fit_transform(X)\n",
    "print(X.shape)"
   ]
  },
  {
   "cell_type": "code",
   "execution_count": 7,
   "id": "be44c35e",
   "metadata": {
    "id": "be44c35e",
    "outputId": "0eb50931-6c2b-41b4-bb66-bd0a58905d26"
   },
   "outputs": [
    {
     "name": "stdout",
     "output_type": "stream",
     "text": [
      "KMeans(max_iter=30, n_clusters=4, random_state=7)\n",
      "\n",
      "Clusters: 4\n"
     ]
    },
    {
     "data": {
      "text/plain": [
       "array([2, 2, 2, 2, 1, 3, 1, 2, 3, 1, 1, 3, 3, 3, 3, 3, 0, 3, 2, 3])"
      ]
     },
     "execution_count": 7,
     "metadata": {},
     "output_type": "execute_result"
    }
   ],
   "source": [
    "# Using k-means algorithm on dataset\n",
    "clf = KMeans(n_clusters=4, init='k-means++', max_iter=30,\n",
    "             n_init=10, random_state=7)\n",
    "print(clf)\n",
    "\n",
    "# Using the fit function\n",
    "clf.fit(X)\n",
    "labels = clf.labels_\n",
    "n_clusters_ = len(set(labels)) - (1 if -1 in labels else 0)\n",
    "print(\"\\nClusters: %d\" % n_clusters_)\n",
    "\n",
    "clustered = clf.labels_\n",
    "clustered"
   ]
  },
  {
   "cell_type": "markdown",
   "id": "eb2c9669",
   "metadata": {
    "id": "eb2c9669"
   },
   "source": [
    "To visualise it, we would use the t-SNE tool which is used to visualise high dimensional data into a 2D data.\n",
    "\n",
    "The exact code is as follows:"
   ]
  },
  {
   "cell_type": "code",
   "execution_count": 8,
   "id": "ef1fb95b",
   "metadata": {
    "id": "ef1fb95b",
    "outputId": "97292d2a-cb41-49e4-e42c-f292c2a5a8bd"
   },
   "outputs": [
    {
     "data": {
      "image/png": "[encoded data removed]",
      "text/plain": [
       "<Figure size 432x288 with 1 Axes>"
      ]
     },
     "metadata": {},
     "output_type": "display_data"
    }
   ],
   "source": [
    "clustered_series = pd.Series(index=data_daily_returns.columns, \n",
    "                             data=clustered.flatten())\n",
    "clustered_series_all = pd.Series(\n",
    "                            index=data_daily_returns.columns,\n",
    "                            data=clustered.flatten())\n",
    "clustered_series = clustered_series[clustered_series != -1]\n",
    "\n",
    "X_tsne = TSNE(learning_rate=1000, perplexity=25, \n",
    "              random_state=1337).fit_transform(X)\n",
    "\n",
    "\n",
    "plt.figure(1, facecolor='white')\n",
    "plt.clf()\n",
    "plt.axis('off')\n",
    "\n",
    "plt.scatter(\n",
    "    X_tsne[(labels!=-1), 0],\n",
    "    X_tsne[(labels!=-1), 1],\n",
    "    s=100,\n",
    "    alpha=0.85,\n",
    "    c=labels[labels!=-1]\n",
    ")\n",
    "\n",
    "plt.scatter(\n",
    "    X_tsne[(clustered_series_all==-1).values, 0],\n",
    "    X_tsne[(clustered_series_all==-1).values, 1],\n",
    "    s=100,\n",
    "    alpha=0.05\n",
    ")\n",
    "\n",
    "plt.title('T-SNE of all Stocks with KMeans Clusters Noted');"
   ]
  },
  {
   "cell_type": "markdown",
   "id": "353f5e24",
   "metadata": {
    "id": "353f5e24"
   },
   "source": [
    "You can see that there are 4 clusters formed. While it may look like they are spread out, the t-SNE tool has visualised the clusters in a 2 dimensional space, and hence you can't see the clusters grouped together. \n",
    "\n",
    "Once these clusters are formed, you can use them further for analysis or your own trading strategy."
   ]
  }
 ],
 "metadata": {
  "colab": {
   "collapsed_sections": [],
   "name": "Chapter 19 - Principal Component Analysis.ipynb",
   "provenance": []
  },
  "kernelspec": {
   "display_name": "Python 3 (ipykernel)",
   "language": "python",
   "name": "python3"
  },
  "language_info": {
   "codemirror_mode": {
    "name": "ipython",
    "version": 3
   },
   "file_extension": ".py",
   "mimetype": "text/x-python",
   "name": "python",
   "nbconvert_exporter": "python",
   "pygments_lexer": "ipython3",
   "version": "3.9.5"
  }
 },
 "nbformat": 4,
 "nbformat_minor": 5
}
