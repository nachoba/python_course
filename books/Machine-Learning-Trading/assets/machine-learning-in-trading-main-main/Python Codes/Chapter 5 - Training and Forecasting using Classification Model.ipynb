{
 "cells": [
  {
   "cell_type": "markdown",
   "metadata": {
    "id": "xZui7fRJhi3j"
   },
   "source": [
    "In the previous chapters, we learned about the features (`X`), target (`y`), and the train-test split.\n",
    "\n",
    "As you have seen in countless movies, the hero always trains hard before he faces the competitor. Similarly, we have to train the ML algorithm too. So that when it goes in the real world, it will perform spectacularly. \n",
    "\n",
    "We will use the `X_train` and `y_train` to train the machine learning model. The model training is also referred to as \"fitting\" the model.\n",
    "\n",
    "After the model is fit, the `X_test` will be used with the trained machine learning model to get the predicted values (`y_pred`).\n",
    "\n",
    "### Import Libraries<br>"
   ]
  },
  {
   "cell_type": "code",
   "execution_count": 1,
   "metadata": {
    "id": "DBQ8Z-2v-Lyr"
   },
   "outputs": [],
   "source": [
    "# For data manipulation\n",
    "import pandas as pd\n",
    "\n",
    "# Import sklearn's Random Forest Classifier\n",
    "from sklearn.ensemble import RandomForestClassifier\n",
    "from sklearn.linear_model import LogisticRegression"
   ]
  },
  {
   "cell_type": "markdown",
   "metadata": {
    "id": "DukTdc98-Lys"
   },
   "source": [
    "### Read the Data<br>\n",
    "The target (`y`) and features (`X`) for the `train` and `test` dataset is read from the CSV files. Note that this data was prepared in the previous chapters."
   ]
  },
  {
   "cell_type": "code",
   "execution_count": 2,
   "metadata": {
    "id": "lRt4IA6v-Lys"
   },
   "outputs": [],
   "source": [
    "# Define the path for the data files\n",
    "path = \"../data_modules/\"\n",
    "\n",
    "# Read the target and features of the training and testing data\n",
    "X_train = pd.read_csv(\n",
    "    path + \"JPM_features_training_2017_2019.csv\", index_col=0, \n",
    "    parse_dates=True)\n",
    "X_test = pd.read_csv(\n",
    "    path + \"JPM_features_testing_2017_2019.csv\", index_col=0, \n",
    "    parse_dates=True)\n",
    "y_train = pd.read_csv(\n",
    "    path + \"JPM_target_training_2017_2019.csv\", index_col=0, \n",
    "    parse_dates=True)\n",
    "y_test = pd.read_csv(path + \"JPM_target_testing_2017_2019.csv\",\n",
    "                     index_col=0, parse_dates=True)"
   ]
  },
  {
   "cell_type": "markdown",
   "metadata": {
    "id": "UAKL7ZUphi3x"
   },
   "source": [
    "### Select a Classification Model<br>\n",
    "\n",
    "For illustration, we will use the `RandomForestClassifier`. Don't worry if you are unfamiliar with this ML model. \n",
    "\n",
    "It is not important to understand how the random forest classifier works at this time. We can use any other classification model in its place. \n",
    "\n",
    "What is important here is to learn how the `train_data` and `test_data` are used along with the ML model.\n",
    "\n",
    "The `RandomForestClassifier` model from the `sklearn` package is used to create the classification tree model. If you are very new to machine learning, you can skip the interpretation and understanding of these parameters for now.\n",
    "\n",
    "Syntax:\n",
    "```python\n",
    "RandomForestClassifier(n_estimators, max_features, max_depth, random_state)\n",
    "```\n",
    "\n",
    "Parameters:\n",
    "\n",
    "1. **n_estimators:** The number of trees in the forest.<br>\n",
    "2. **max_features:** The number of features to consider when looking for the best split.<br>\n",
    "3. **max_depth:** The maximum depth of a tree.<br>\n",
    "4. **random_state:** Seed value for the randomised bootstrapping and feature selection. This is set to replicate results for subsequent runs.<br>\n",
    "\n",
    "Returns:\n",
    "\n",
    "A `RandomForestClassifier` type object that can be fit on the test data, and then used for making forecasts.\n",
    "\n",
    "We have set the values for the parameters. These are for illustration and can be changed."
   ]
  },
  {
   "cell_type": "code",
   "execution_count": 3,
   "metadata": {
    "id": "B4SrhGGoWymb",
    "scrolled": true
   },
   "outputs": [],
   "source": [
    "# Create the machine learning model\n",
    "rf_model = RandomForestClassifier(\n",
    "    n_estimators=3, max_features=3, max_depth=2, random_state=4)"
   ]
  },
  {
   "cell_type": "markdown",
   "metadata": {
    "id": "VfGRDMz5-Lyw"
   },
   "source": [
    "### Train the Model<br>\n",
    "\n",
    "Now it is time for the model to learn from the `X_train` and `y_train`. We call the `fit` function of the model and pass the `X_train` and `y_train` datasets. \n",
    "\n",
    "Syntax:\n",
    "```python\n",
    "model.fit(X_train, y_train)\n",
    "```\n",
    "\n",
    "Parameters:\n",
    "\n",
    "1. **model:** The model (RandomForestClassifier) object.<br>\n",
    "2. **X_train:** The features from the training dataset.<br>\n",
    "3. **y_train:** The target from the training dataset.<br>\n",
    "\n",
    "Returns:\n",
    "\n",
    "The `fit` function trains the model using the data passed to it. The trained model is stored in the model object where the `fit` function was applied."
   ]
  },
  {
   "cell_type": "code",
   "execution_count": 4,
   "metadata": {
    "id": "PfV_nKqe-Lyx",
    "outputId": "0828a505-ed0c-419c-952a-abbb314cb446"
   },
   "outputs": [
    {
     "data": {
      "text/plain": [
       "RandomForestClassifier(max_depth=2, max_features=3, n_estimators=3,\n",
       "                       random_state=4)"
      ]
     },
     "execution_count": 4,
     "metadata": {},
     "output_type": "execute_result"
    }
   ],
   "source": [
    "# Fit the model on the training data\n",
    "rf_model.fit(X_train, y_train['signal'])"
   ]
  },
  {
   "cell_type": "markdown",
   "metadata": {
    "id": "7kwlsPZa-Ly0"
   },
   "source": [
    "\n",
    "\n",
    "---\n",
    "\n",
    "\n",
    "### Forecast Data<br>\n",
    "\n",
    "The model is now ready to make forecasts. We can now pass the unseen data (`X_test`) to the model, and obtain the model predicted values (`y_pred`). To make a forecast, the `predict` function is called and the unseen data is passed as a parameter.\n",
    "\n",
    "Syntax:\n",
    "```python\n",
    "model.predict(X_test)\n",
    "```\n",
    "\n",
    "Parameters:\n",
    "1. **model:** The model (RandomForestClassifier) object.\n",
    "2. **X_test:** The features from the testing dataset.\n",
    "\n",
    "Returns:<br>\n",
    "A `numpy` array of the predicted outputs is obtained.\n",
    "\n",
    "Let's make one prediction using the model. For illustration, we are using the first data point in the `X_test`."
   ]
  },
  {
   "cell_type": "code",
   "execution_count": 5,
   "metadata": {
    "id": "ybbLRRgQWyme",
    "outputId": "48c52c12-f0b6-4fc8-cf8a-556ff2d8edba"
   },
   "outputs": [
    {
     "data": {
      "text/html": [
       "<div>\n",
       "<style scoped>\n",
       "    .dataframe tbody tr th:only-of-type {\n",
       "        vertical-align: middle;\n",
       "    }\n",
       "\n",
       "    .dataframe tbody tr th {\n",
       "        vertical-align: top;\n",
       "    }\n",
       "\n",
       "    .dataframe thead th {\n",
       "        text-align: right;\n",
       "    }\n",
       "</style>\n",
       "<table border=\"1\" class=\"dataframe\">\n",
       "  <thead>\n",
       "    <tr style=\"text-align: right;\">\n",
       "      <th></th>\n",
       "      <th>pct_change</th>\n",
       "      <th>pct_change2</th>\n",
       "      <th>pct_change5</th>\n",
       "      <th>rsi</th>\n",
       "      <th>adx</th>\n",
       "      <th>corr</th>\n",
       "      <th>volatility</th>\n",
       "    </tr>\n",
       "  </thead>\n",
       "  <tbody>\n",
       "    <tr>\n",
       "      <th>2019-05-28 12:00:00+00:00</th>\n",
       "      <td>0.0</td>\n",
       "      <td>-0.000091</td>\n",
       "      <td>0.001374</td>\n",
       "      <td>47.746053</td>\n",
       "      <td>26.139722</td>\n",
       "      <td>-0.515815</td>\n",
       "      <td>0.143024</td>\n",
       "    </tr>\n",
       "  </tbody>\n",
       "</table>\n",
       "</div>"
      ],
      "text/plain": [
       "                           pct_change  pct_change2  pct_change5        rsi  \\\n",
       "2019-05-28 12:00:00+00:00         0.0    -0.000091     0.001374  47.746053   \n",
       "\n",
       "                                 adx      corr  volatility  \n",
       "2019-05-28 12:00:00+00:00  26.139722 -0.515815    0.143024  "
      ]
     },
     "execution_count": 5,
     "metadata": {},
     "output_type": "execute_result"
    }
   ],
   "source": [
    "# Get a sample day of the data from X_test\n",
    "unseen_data_single_day = X_test.head(1)\n",
    "\n",
    "# Preview the data\n",
    "unseen_data_single_day"
   ]
  },
  {
   "cell_type": "markdown",
   "metadata": {
    "id": "lkwKolGsWymg"
   },
   "source": [
    "This data is for 28th May, 2019. Let us pass this to the model and get the prediction."
   ]
  },
  {
   "cell_type": "code",
   "execution_count": 6,
   "metadata": {
    "id": "7ht2ZpYyWymg",
    "outputId": "6107e39f-0fd5-4739-8799-66b86ffd1b83"
   },
   "outputs": [
    {
     "data": {
      "text/plain": [
       "array([0], dtype=int64)"
      ]
     },
     "execution_count": 6,
     "metadata": {},
     "output_type": "execute_result"
    }
   ],
   "source": [
    "# Get the prediction of a single day\n",
    "single_day_prediction = rf_model.predict(unseen_data_single_day)\n",
    "\n",
    "# Preview the prediction\n",
    "single_day_prediction"
   ]
  },
  {
   "cell_type": "markdown",
   "metadata": {
    "id": "EG5UTQ94Wymh"
   },
   "source": [
    "The predicted model output is 0. This means that the model is signalling to take no position on 28th May, 2019.\n",
    "Let's apply the model to all of the testing dataset."
   ]
  },
  {
   "cell_type": "code",
   "execution_count": 7,
   "metadata": {
    "id": "ZELLJMbK-Ly1",
    "outputId": "d9209a94-52fc-4965-88c6-f9a6e93fe08b"
   },
   "outputs": [
    {
     "name": "stdout",
     "output_type": "stream",
     "text": [
      "The first five predicted values [0 0 1 0 0]\n"
     ]
    }
   ],
   "source": [
    "# Use the model and predict the values for the test data\n",
    "y_pred = rf_model.predict(X_test)\n",
    "\n",
    "# Display the first five predictions\n",
    "print(\"The first five predicted values\", y_pred[:5])"
   ]
  },
  {
   "cell_type": "markdown",
   "metadata": {
    "id": "wafLpuOGWymi"
   },
   "source": [
    "The model predictions are stored in `y_pred`. 0 means no position and 1 means a long position. With the `y_pred`, we can now place trades using an ML model."
   ]
  },
  {
   "cell_type": "markdown",
   "metadata": {
    "id": "QuLR6m6UWymi"
   },
   "source": [
    "\n",
    "\n",
    "---\n",
    "\n",
    "\n",
    "<b>But how do we know that the ML model predictions are good?</b>\n",
    "\n",
    "As we can see, the model correctly predicts the first three values of the `test_data`. But how do we know the accuracy of the model prediction for the entire dataset? We need to learn some metrics for measuring the model performance. This will be covered in the next chapter."
   ]
  }
 ],
 "metadata": {
  "colab": {
   "collapsed_sections": [],
   "name": "Chapter 5 - Training and Forecasting using Classification Model.ipynb",
   "provenance": []
  },
  "kernelspec": {
   "display_name": "Python 3 (ipykernel)",
   "language": "python",
   "name": "python3"
  },
  "language_info": {
   "codemirror_mode": {
    "name": "ipython",
    "version": 3
   },
   "file_extension": ".py",
   "mimetype": "text/x-python",
   "name": "python",
   "nbconvert_exporter": "python",
   "pygments_lexer": "ipython3",
   "version": "3.9.5"
  },
  "toc": {
   "base_numbering": 1,
   "nav_menu": {},
   "number_sections": true,
   "sideBar": true,
   "skip_h1_title": false,
   "title_cell": "Table of Contents",
   "title_sidebar": "Contents",
   "toc_cell": false,
   "toc_position": {},
   "toc_section_display": true,
   "toc_window_display": false
  },
  "varInspector": {
   "cols": {
    "lenName": 16,
    "lenType": 16,
    "lenVar": 40
   },
   "kernels_config": {
    "python": {
     "delete_cmd_postfix": "",
     "delete_cmd_prefix": "del ",
     "library": "var_list.py",
     "varRefreshCmd": "print(var_dic_list())"
    },
    "r": {
     "delete_cmd_postfix": ") ",
     "delete_cmd_prefix": "rm(",
     "library": "var_list.r",
     "varRefreshCmd": "cat(var_dic_list()) "
    }
   },
   "types_to_exclude": [
    "module",
    "function",
    "builtin_function_or_method",
    "instance",
    "_Feature"
   ],
   "window_display": false
  }
 },
 "nbformat": 4,
 "nbformat_minor": 1
}
