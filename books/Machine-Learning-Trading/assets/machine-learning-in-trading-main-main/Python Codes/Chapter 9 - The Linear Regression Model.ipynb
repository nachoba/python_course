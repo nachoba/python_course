{
 "cells": [
  {
   "cell_type": "markdown",
   "metadata": {
    "id": "s-UCb_-qUAeV"
   },
   "source": [
    "# Linear Regression in Trading\n",
    "\n",
    "Let us now see how linear regression works on trading data. You will build a linear regression model using Bank of America and J.P. Morgan's stock prices. Since you are using Bank of America's stock price to predict J.P. Morgan's price, Bank of America's price will be your independent variable and x coordinate. \n",
    "J.P. Morgan will be your dependent variable and y coordinate. To read a CSV file, you can use the `read_csv` method of `pandas`. "
   ]
  },
  {
   "cell_type": "code",
   "execution_count": 1,
   "metadata": {
    "colab": {
     "base_uri": "https://localhost:8080/",
     "height": 235
    },
    "id": "qb7GNSLpoylt",
    "outputId": "df743aad-f663-4691-c43f-0a978e7a89a1"
   },
   "outputs": [
    {
     "data": {
      "image/png": "[encoded data removed]",
      "text/plain": [
       "<Figure size 432x360 with 1 Axes>"
      ]
     },
     "metadata": {},
     "output_type": "display_data"
    }
   ],
   "source": [
    "# Import the libraries\n",
    "import pandas as pd\n",
    "import matplotlib.pyplot as plt\n",
    "%matplotlib inline\n",
    "plt.style.use('seaborn-darkgrid')\n",
    "\n",
    "\n",
    "# The data is stored in the directory 'data_modules'\n",
    "path = '../data_modules/'\n",
    "# Read the csv file using the read_csv method of pandas\n",
    "data = pd.read_csv(path + 'jpm_and_bac_price_2019.csv', \n",
    "                   index_col=0)\n",
    "data.plot.scatter('BAC Close','Observed JPM', color='blue',\n",
    "                  figsize=(6,5));"
   ]
  },
  {
   "cell_type": "markdown",
   "metadata": {
    "id": "zVCmAfnHUAeY"
   },
   "source": [
    "You can use the `fit()` method of `statsmodels.api.OLS` to compute the variables needed to develop a linear regression model. The syntax is shown below:\n",
    "\n",
    "Syntax: \n",
    "``` python\n",
    "import statsmodels.api as sm\n",
    "model = sm.OLS(y, X).fit()\n",
    "```\n",
    "\n",
    "1. **y**: y coordinate\n",
    "2. **X**: x coordinate\n",
    "\n",
    "The following methods/properties are used.\n",
    "\n",
    "1. add_constant(): Compute the coefficient, as default is considered 0.\n",
    "2. summary(): View the details of the regression model."
   ]
  },
  {
   "cell_type": "code",
   "execution_count": 2,
   "metadata": {
    "id": "52LguYIYUAea",
    "outputId": "80461b52-a014-4a76-f572-c7f2df2836ff"
   },
   "outputs": [
    {
     "data": {
      "text/html": [
       "<table class=\"simpletable\">\n",
       "<caption>OLS Regression Results</caption>\n",
       "<tr>\n",
       "  <th>Dep. Variable:</th>      <td>Observed JPM</td>   <th>  R-squared:         </th> <td>   0.816</td>\n",
       "</tr>\n",
       "<tr>\n",
       "  <th>Model:</th>                   <td>OLS</td>       <th>  Adj. R-squared:    </th> <td>   0.815</td>\n",
       "</tr>\n",
       "<tr>\n",
       "  <th>Method:</th>             <td>Least Squares</td>  <th>  F-statistic:       </th> <td>   1101.</td>\n",
       "</tr>\n",
       "<tr>\n",
       "  <th>Date:</th>             <td>Tue, 05 Oct 2021</td> <th>  Prob (F-statistic):</th> <td>2.17e-93</td>\n",
       "</tr>\n",
       "<tr>\n",
       "  <th>Time:</th>                 <td>08:53:41</td>     <th>  Log-Likelihood:    </th> <td> -728.85</td>\n",
       "</tr>\n",
       "<tr>\n",
       "  <th>No. Observations:</th>      <td>   251</td>      <th>  AIC:               </th> <td>   1462.</td>\n",
       "</tr>\n",
       "<tr>\n",
       "  <th>Df Residuals:</th>          <td>   249</td>      <th>  BIC:               </th> <td>   1469.</td>\n",
       "</tr>\n",
       "<tr>\n",
       "  <th>Df Model:</th>              <td>     1</td>      <th>                     </th>     <td> </td>   \n",
       "</tr>\n",
       "<tr>\n",
       "  <th>Covariance Type:</th>      <td>nonrobust</td>    <th>                     </th>     <td> </td>   \n",
       "</tr>\n",
       "</table>\n",
       "<table class=\"simpletable\">\n",
       "<tr>\n",
       "      <td></td>         <th>coef</th>     <th>std err</th>      <th>t</th>      <th>P>|t|</th>  <th>[0.025</th>    <th>0.975]</th>  \n",
       "</tr>\n",
       "<tr>\n",
       "  <th>const</th>     <td>  -10.8576</td> <td>    3.764</td> <td>   -2.885</td> <td> 0.004</td> <td>  -18.270</td> <td>   -3.445</td>\n",
       "</tr>\n",
       "<tr>\n",
       "  <th>BAC Close</th> <td>    4.2167</td> <td>    0.127</td> <td>   33.185</td> <td> 0.000</td> <td>    3.966</td> <td>    4.467</td>\n",
       "</tr>\n",
       "</table>\n",
       "<table class=\"simpletable\">\n",
       "<tr>\n",
       "  <th>Omnibus:</th>       <td>37.420</td> <th>  Durbin-Watson:     </th> <td>   0.045</td>\n",
       "</tr>\n",
       "<tr>\n",
       "  <th>Prob(Omnibus):</th> <td> 0.000</td> <th>  Jarque-Bera (JB):  </th> <td>  23.956</td>\n",
       "</tr>\n",
       "<tr>\n",
       "  <th>Skew:</th>          <td>-0.626</td> <th>  Prob(JB):          </th> <td>6.28e-06</td>\n",
       "</tr>\n",
       "<tr>\n",
       "  <th>Kurtosis:</th>      <td> 2.150</td> <th>  Cond. No.          </th> <td>    399.</td>\n",
       "</tr>\n",
       "</table><br/><br/>Notes:<br/>[1] Standard Errors assume that the covariance matrix of the errors is correctly specified."
      ],
      "text/plain": [
       "<class 'statsmodels.iolib.summary.Summary'>\n",
       "\"\"\"\n",
       "                            OLS Regression Results                            \n",
       "==============================================================================\n",
       "Dep. Variable:           Observed JPM   R-squared:                       0.816\n",
       "Model:                            OLS   Adj. R-squared:                  0.815\n",
       "Method:                 Least Squares   F-statistic:                     1101.\n",
       "Date:                Tue, 05 Oct 2021   Prob (F-statistic):           2.17e-93\n",
       "Time:                        08:53:41   Log-Likelihood:                -728.85\n",
       "No. Observations:                 251   AIC:                             1462.\n",
       "Df Residuals:                     249   BIC:                             1469.\n",
       "Df Model:                           1                                         \n",
       "Covariance Type:            nonrobust                                         \n",
       "==============================================================================\n",
       "                 coef    std err          t      P>|t|      [0.025      0.975]\n",
       "------------------------------------------------------------------------------\n",
       "const        -10.8576      3.764     -2.885      0.004     -18.270      -3.445\n",
       "BAC Close      4.2167      0.127     33.185      0.000       3.966       4.467\n",
       "==============================================================================\n",
       "Omnibus:                       37.420   Durbin-Watson:                   0.045\n",
       "Prob(Omnibus):                  0.000   Jarque-Bera (JB):               23.956\n",
       "Skew:                          -0.626   Prob(JB):                     6.28e-06\n",
       "Kurtosis:                       2.150   Cond. No.                         399.\n",
       "==============================================================================\n",
       "\n",
       "Notes:\n",
       "[1] Standard Errors assume that the covariance matrix of the errors is correctly specified.\n",
       "\"\"\""
      ]
     },
     "execution_count": 2,
     "metadata": {},
     "output_type": "execute_result"
    }
   ],
   "source": [
    "import warnings\n",
    "warnings.simplefilter('ignore')\n",
    "import statsmodels.api as sm\n",
    "Y = data['Observed JPM']\n",
    "X = sm.add_constant(data['BAC Close'])\n",
    "model = sm.OLS(Y,X).fit()\n",
    "model.summary()"
   ]
  },
  {
   "cell_type": "code",
   "execution_count": 3,
   "metadata": {
    "id": "qDbYAuZeUAeb",
    "outputId": "0bb4aacf-798e-45e6-ad2e-5f1d8f510fff"
   },
   "outputs": [
    {
     "data": {
      "text/plain": [
       "const       -10.857609\n",
       "BAC Close     4.216694\n",
       "dtype: float64"
      ]
     },
     "execution_count": 3,
     "metadata": {},
     "output_type": "execute_result"
    }
   ],
   "source": [
    "model.params"
   ]
  },
  {
   "cell_type": "markdown",
   "metadata": {
    "id": "3AzvO5g3UAed"
   },
   "source": [
    "The linear regression equation can be computed as follows:"
   ]
  },
  {
   "cell_type": "code",
   "execution_count": 4,
   "metadata": {
    "id": "Iiji0rqkUAee",
    "outputId": "3cd500fe-142c-4f17-9308-6a90eef69422"
   },
   "outputs": [
    {
     "name": "stdout",
     "output_type": "stream",
     "text": [
      "y = -10.86 +             4.22 * x\n",
      "JPM = -10.86 +               4.22 * BAC\n"
     ]
    }
   ],
   "source": [
    "print(f\"y = {round(model.params[0],2)} + \\\n",
    "            {round(model.params[1],2)} * x\")\n",
    "print(f\"JPM = {round(model.params[0],2)} + \\\n",
    "              {round(model.params[1],2)} * BAC\")"
   ]
  },
  {
   "cell_type": "markdown",
   "metadata": {
    "id": "aA_lud7UUAef"
   },
   "source": [
    "But how well is Bank of America's price data able to predict the price of J. P. Morgan. For this, we will use the goodness of fit metric or R<sup>2</sup>, as it is commonly known.\n",
    "\n",
    "Let us also understand the math behind the metric and learn how to calculate it using the `sklearn` library in Python. "
   ]
  },
  {
   "cell_type": "markdown",
   "metadata": {
    "id": "WVbCYDmnoylw"
   },
   "source": [
    "# R-squared\n",
    "\n",
    "**R-squared** is also known as the **Coefficient of Determination** and is denoted by $R^2$.\n",
    "\n",
    "You have already seen that the R-squared explains the percentage of variation in the dependent variable, y, that is described by the independent variable, X. It is equal to the square of correlation. Mathematically,<br>\n",
    "\n",
    "$$\n",
    "R^2 = \\frac{Variance\\,Explained\\,by\\,the\\,Model}{Total\\,Variance}\\\\[1cm]$$\n",
    "$$ =1 - \\frac{Unexplained\\,Variance}{Total\\,Variance}\\\\[1cm]$$\n",
    "$$ =1 - \\frac{Sum\\,Squared\\,Regression\\,Error}{Sum\\,Squared\\,Total\\,Error}\\\\[1cm]$$\n",
    "$$ =1 - \\frac{\\sum_{i=1}^n(y_i-\\hat y_i)^2}{\\sum_{i=1}^n(y_i-\\bar y)^2}\n",
    "$$\n",
    "\n",
    "Where, \n",
    "- $y_i$ is the observed value for the $i^{th}$ row. \n",
    "- $\\hat y_i$ is the predicted value for the $i^{th}$ row.\n",
    "- $\\bar y$ is the average of observed $y$'s.\n",
    "\n",
    "Now, since you understand the math behind $R^2$, what is the range of $R^2$? The value of $R^2$ always lies between 0 and 1. \n",
    "\n",
    "Refer back to the formula above, and you will be able to see that $R^2$ will be 1 if and only if all the $y_i$'s would be exactly equal to the respective $\\hat y_i$'s. That means $R^2$ will be 1 when the model will be able to predict all the values precisely. And $R^2$ will be 0 when the model will not be able to capture any relationship between the $X$'s and the $y$'s.\n",
    "\n",
    "#### Calculate R-squared\n",
    "\n",
    "Let us calculate the R-squared for the above data using the formula."
   ]
  },
  {
   "cell_type": "code",
   "execution_count": 5,
   "metadata": {
    "colab": {
     "base_uri": "https://localhost:8080/",
     "height": 35
    },
    "id": "eB5juubBoylx",
    "outputId": "8fa25fcf-30a8-446e-b58b-ca2681ee5dba"
   },
   "outputs": [
    {
     "name": "stdout",
     "output_type": "stream",
     "text": [
      "The R-squared is 0.82\n"
     ]
    }
   ],
   "source": [
    "r_sq = 1 - ((data['Observed JPM']-data['Predicted JPM_BAC']) \\\n",
    "            ** 2).sum()/((data['Observed JPM'] \\\n",
    "                          - data['Observed JPM'].mean()) \\\n",
    "                         ** 2).sum()\n",
    "print('The R-squared is %.2f' % r_sq)"
   ]
  },
  {
   "cell_type": "markdown",
   "metadata": {
    "id": "69a4xftNoylx"
   },
   "source": [
    "The above value of R-squared means that 82% of the variance in the stock price of J.P. Morgan is explained by the variance in the stock price of Bank of America.\n",
    "\n",
    "You can also calculate the same using the `sklearn` library. The `sklearn` library has a `r2_score` function which can be imported as below:\n",
    "```python\n",
    "from sklearn.metrics import r2_score\n",
    "```\n",
    "\n",
    "Using the `r2_score` function, the R-squared can be calculated as shown below:\n",
    "```python\n",
    "r2_score(y_true,y_predicted)\n",
    "```"
   ]
  },
  {
   "cell_type": "code",
   "execution_count": 6,
   "metadata": {
    "colab": {
     "base_uri": "https://localhost:8080/",
     "height": 35
    },
    "id": "vGpkF6K0oyly",
    "outputId": "cb23ac91-95ba-4341-b457-12f8e83568f0"
   },
   "outputs": [
    {
     "name": "stdout",
     "output_type": "stream",
     "text": [
      "The R-squared is 0.82\n"
     ]
    }
   ],
   "source": [
    "from sklearn.metrics import r2_score\n",
    "r_sq = r2_score(data['Observed JPM'], data['Predicted JPM_BAC'])\n",
    "print('The R-squared is %.2f' % r_sq)"
   ]
  },
  {
   "cell_type": "markdown",
   "metadata": {
    "id": "Scsu2vaooyly"
   },
   "source": [
    "Let us read another CSV file stored in the same directory and check the value of $R^2$. This file has observed and predicted stock price of J.P. Morgan. This time, the stock price of J.P. Morgan has been predicted using the stock price of Nestle."
   ]
  },
  {
   "cell_type": "code",
   "execution_count": 7,
   "metadata": {
    "colab": {
     "base_uri": "https://localhost:8080/",
     "height": 235
    },
    "id": "caC62uMcoylz",
    "outputId": "199ee2a8-7ea9-440a-f354-402b0a2f6884"
   },
   "outputs": [
    {
     "data": {
      "text/html": [
       "<div>\n",
       "<style scoped>\n",
       "    .dataframe tbody tr th:only-of-type {\n",
       "        vertical-align: middle;\n",
       "    }\n",
       "\n",
       "    .dataframe tbody tr th {\n",
       "        vertical-align: top;\n",
       "    }\n",
       "\n",
       "    .dataframe thead th {\n",
       "        text-align: right;\n",
       "    }\n",
       "</style>\n",
       "<table border=\"1\" class=\"dataframe\">\n",
       "  <thead>\n",
       "    <tr style=\"text-align: right;\">\n",
       "      <th></th>\n",
       "      <th>Observed JPM</th>\n",
       "      <th>Nestle Close</th>\n",
       "      <th>Predicted JPM_Nestle</th>\n",
       "    </tr>\n",
       "    <tr>\n",
       "      <th>Date</th>\n",
       "      <th></th>\n",
       "      <th></th>\n",
       "      <th></th>\n",
       "    </tr>\n",
       "  </thead>\n",
       "  <tbody>\n",
       "    <tr>\n",
       "      <th>23-12-2019</th>\n",
       "      <td>137.199997</td>\n",
       "      <td>108.800003</td>\n",
       "      <td>120.207267</td>\n",
       "    </tr>\n",
       "    <tr>\n",
       "      <th>24-12-2019</th>\n",
       "      <td>137.580002</td>\n",
       "      <td>108.589996</td>\n",
       "      <td>120.048491</td>\n",
       "    </tr>\n",
       "    <tr>\n",
       "      <th>26-12-2019</th>\n",
       "      <td>139.039993</td>\n",
       "      <td>108.709999</td>\n",
       "      <td>120.139220</td>\n",
       "    </tr>\n",
       "    <tr>\n",
       "      <th>27-12-2019</th>\n",
       "      <td>139.139999</td>\n",
       "      <td>108.980003</td>\n",
       "      <td>120.343358</td>\n",
       "    </tr>\n",
       "    <tr>\n",
       "      <th>30-12-2019</th>\n",
       "      <td>138.630005</td>\n",
       "      <td>107.849998</td>\n",
       "      <td>119.489012</td>\n",
       "    </tr>\n",
       "  </tbody>\n",
       "</table>\n",
       "</div>"
      ],
      "text/plain": [
       "            Observed JPM  Nestle Close  Predicted JPM_Nestle\n",
       "Date                                                        \n",
       "23-12-2019    137.199997    108.800003            120.207267\n",
       "24-12-2019    137.580002    108.589996            120.048491\n",
       "26-12-2019    139.039993    108.709999            120.139220\n",
       "27-12-2019    139.139999    108.980003            120.343358\n",
       "30-12-2019    138.630005    107.849998            119.489012"
      ]
     },
     "execution_count": 7,
     "metadata": {},
     "output_type": "execute_result"
    }
   ],
   "source": [
    "data_nestle = pd.read_csv(path \\\n",
    "                          + 'predicted_jpm_and_nestle_price_2019.csv',\n",
    "                          index_col=0)\n",
    "data_nestle.tail()"
   ]
  },
  {
   "cell_type": "code",
   "execution_count": 8,
   "metadata": {
    "colab": {
     "base_uri": "https://localhost:8080/",
     "height": 35
    },
    "id": "MIIpQaEdoylz",
    "outputId": "a60ba2a2-5738-4251-dd85-a1dd3ad2ec1b"
   },
   "outputs": [
    {
     "name": "stdout",
     "output_type": "stream",
     "text": [
      "The R-squared is 0.35\n"
     ]
    }
   ],
   "source": [
    "r_sq = r2_score(data_nestle['Observed JPM'], \n",
    "                data_nestle['Predicted JPM_Nestle'])\n",
    "print('The R-squared is %.2f' % r_sq)"
   ]
  },
  {
   "cell_type": "markdown",
   "metadata": {
    "id": "a_tiTKB_oyl0"
   },
   "source": [
    "Can you interpret the value of $R^2$ above? The above value of R-squared, 0.35, means that only 35% of the variance in the stock price of J.P. Morgan is explained by the variance in the stock price of Nestle. \n",
    "\n",
    "Let us have a look at the plot of the JPM Price vs BAC Price and JPM Price vs Nestle Price."
   ]
  },
  {
   "cell_type": "code",
   "execution_count": 9,
   "metadata": {
    "colab": {
     "base_uri": "https://localhost:8080/",
     "height": 349
    },
    "id": "t-azMH-8oyl0",
    "outputId": "2ac4a727-e44d-4f5b-8c93-a33a23170daa"
   },
   "outputs": [
    {
     "data": {
      "image/png": "[encoded data removed]",
      "text/plain": [
       "<Figure size 432x720 with 2 Axes>"
      ]
     },
     "metadata": {},
     "output_type": "display_data"
    }
   ],
   "source": [
    "fig, (ax1, ax2) = plt.subplots(2, 1, figsize=(6, 5*2))\n",
    "\n",
    "# Plot of JPM Price vs BAC Price\n",
    "ax1.scatter(data['BAC Close'], data['Observed JPM'], \n",
    "            color=\"green\")\n",
    "ax1.plot(data['BAC Close'], data['Predicted JPM_BAC'])\n",
    "# Set the title and labels for the plot\n",
    "ax1.set_title('BAC Group and JPM Price Graph, R-squared = %.2f' \\\n",
    "              %r2_score(data['Observed JPM'],\n",
    "                        data['Predicted JPM_BAC']), fontsize=14)\n",
    "ax1.set_xlabel('BAC Price', fontsize=12)\n",
    "ax1.set_ylabel('JPM Price', fontsize=12)\n",
    "\n",
    "\n",
    "# Plot of JPM Price vs Nestle Price\n",
    "ax2.scatter(data_nestle['Nestle Close'], \n",
    "            data_nestle['Observed JPM'], color=\"red\")\n",
    "ax2.plot(data_nestle['Nestle Close'], \n",
    "         data_nestle['Predicted JPM_Nestle'])\n",
    "# Set the title and labels for the plot\n",
    "ax2.set_title('Nestle and JPM Price Graph, R-squared = %.2f' \\\n",
    "              %r2_score(data_nestle['Observed JPM'],\n",
    "                        data_nestle['Predicted JPM_Nestle']), \n",
    "              fontsize=14)\n",
    "ax2.set_xlabel('Nestle Price', fontsize=12)\n",
    "ax2.set_ylabel('JPM Price', fontsize=12)\n",
    "\n",
    "plt.show()"
   ]
  },
  {
   "cell_type": "markdown",
   "metadata": {
    "id": "5icHC3_eoyl1"
   },
   "source": [
    "Of the two values of the $R^2$ that we have seen, which one do you think is better?\n",
    "\n",
    "Yes, the first value (82%) is better as it explains more variance. In the first graph, you can see that the points are closer to the line of best fit and scattered in the second graph. This explains the difference between the two values of the $R^2$.\n",
    "\n",
    "Intuitively, the change in the stock price of J.P. Morgan would be highly correlated to the change in the stock price of Bank of America, and it would not be correlated to the change in the stock price of Nestle. This is because both J.P. Morgan and Bank of America belong to the same sector of Banking, and are very sensitive to factors like interest rates. Nestle belongs to a different sector, Fast Moving Consumer Goods. The dynamics of this sector are different and are affected by different factors.\n",
    "\n",
    "## Limitations of R-squared\n",
    "\n",
    "R-squared does not allow us to see if the predictions are biased. This can be done by the analysis of the residuals. Any pattern in the residual plot will help us identify the bias in our model if any. Hence, a high $R^2$ alone will always not be a good statistic.\n",
    "\n",
    "#### Conclusion\n",
    "\n",
    "R-squared is one of the most popular metrics to measure the goodness of fit of a linear regression model. \n",
    "\n",
    "Using R-squared, you concluded how the stock price of Bank of America was able to explain better the variance in the stock price of J.P. Morgan. Can you think of any other stock price that can also help you explain this variance? The stock price of any other bank or investment institute might do the job for you. \n",
    "\n",
    "Now it's your turn. You can download any such data from finance.yahoo.com and apply what you learned.\n",
    "\n",
    "The linear regression is a simple way to model relationship between the independent and dependent variables."
   ]
  }
 ],
 "metadata": {
  "colab": {
   "collapsed_sections": [],
   "name": "Chapter 9 - The Linear Regression Model.ipynb",
   "provenance": []
  },
  "kernelspec": {
   "display_name": "Python 3 (ipykernel)",
   "language": "python",
   "name": "python3"
  },
  "language_info": {
   "codemirror_mode": {
    "name": "ipython",
    "version": 3
   },
   "file_extension": ".py",
   "mimetype": "text/x-python",
   "name": "python",
   "nbconvert_exporter": "python",
   "pygments_lexer": "ipython3",
   "version": "3.9.5"
  }
 },
 "nbformat": 4,
 "nbformat_minor": 1
}
