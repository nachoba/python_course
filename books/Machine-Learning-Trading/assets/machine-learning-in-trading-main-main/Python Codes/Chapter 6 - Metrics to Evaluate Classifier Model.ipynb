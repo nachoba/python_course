{
 "cells": [
  {
   "cell_type": "markdown",
   "metadata": {
    "id": "xZui7fRJhi3j"
   },
   "source": [
    "One of the easiest ways to find out is how many times the predictions made by the ML model were correct. For example, if the ML model is right only 50% of the time, then it is not at all useful. As you can be right 50% of the time by making random decisions too. \n",
    "\n",
    "For instance,  the task is to predict the heads or tails in a coin toss. The model can predict heads every time and be right 50% of the time. Since there are only two choices, heads or tails, even a random guess will be right 50% of the time. Therefore, you need the model to be right more than 50% of the time.\n",
    "\n",
    "On the other hand, if the ML model was right 8 out of 10 times, then it is right 80% of the times. And we can say that it is indeed able to find some patterns to map the input to output and not random. In technical jargons, this score of 80% is called accuracy.\n",
    "\n",
    "What should be the desired threshold of the accuracy while using ML models for trading?\n",
    "\n",
    "An accuracy score above 50% is satisfactory for an ML model. Aren't you interested in finding the accuracy of the machine learning model we had created in the previous chapter?\n",
    "\n",
    "Let's find out now!\n",
    "\n",
    "To do that, we will use the predicted output (`y_pred`) and the expected output (`y_test`). \n",
    "\n",
    "We will import the libraries and read the model predicted values (`y_pred`) and the expected target values (`y_test`) from the `test_data`."
   ]
  },
  {
   "cell_type": "code",
   "execution_count": 1,
   "metadata": {
    "id": "3aFqEKxh9_iT"
   },
   "outputs": [],
   "source": [
    "# For data manipulation\n",
    "import pandas as pd\n",
    "\n",
    "# Libraries for evaluating the model\n",
    "from sklearn.metrics import classification_report, \\\n",
    "confusion_matrix\n",
    "\n",
    "# Libraries for plotting\n",
    "import matplotlib.pyplot as plt\n",
    "%matplotlib inline\n",
    "plt.style.use('seaborn-darkgrid')\n",
    "import seaborn as sns\n",
    "import matplotlib.colors as clrs\n",
    "\n",
    "# Define the path for the data files\n",
    "path = \"../data_modules/\"\n",
    "\n",
    "# Read the model predicted target values\n",
    "y_pred = pd.read_csv(path + \"JPM_predicted_2017_2019.csv\",\n",
    "                     index_col=0, parse_dates=True)['signal']\n",
    "\n",
    "# Read the target values of the testing dataset\n",
    "y_test = pd.read_csv(path + \"JPM_target_testing_2017_2019.csv\",\n",
    "                     index_col=0, parse_dates=True)['signal']"
   ]
  },
  {
   "cell_type": "markdown",
   "metadata": {
    "id": "VzDquB4mXYBo"
   },
   "source": [
    "Accuracy is nothing but the total correct predictions divided by the total predictions. We plot the data to see how the correct and incorrect predictions are distributed. The green points are where the predictions were correct and the red points are where the predictions were incorrect."
   ]
  },
  {
   "cell_type": "code",
   "execution_count": 2,
   "metadata": {
    "id": "jNABkB6GXYBp",
    "outputId": "c0dff071-d6e7-4b12-840c-78ed710b534d",
    "scrolled": false
   },
   "outputs": [
    {
     "data": {
      "image/png": "[encoded data removed]",
      "text/plain": [
       "<Figure size 576x360 with 1 Axes>"
      ]
     },
     "metadata": {},
     "output_type": "display_data"
    },
    {
     "name": "stdout",
     "output_type": "stream",
     "text": [
      "The accuracy is 51.55%.\n"
     ]
    }
   ],
   "source": [
    "# Define the accuracy data\n",
    "accuracy_data = (y_pred == y_test)\n",
    "\n",
    "# Accuracy percentage\n",
    "accuracy_percentage = round(100 * \n",
    "                            accuracy_data.sum()/len(accuracy_data),\n",
    "                            2)\n",
    "\n",
    "# Plot the accuracy data\n",
    "plt.figure(figsize=(8, 5))\n",
    "\n",
    "# Colour mapping for the correct and incorrect predictions\n",
    "cmap = clrs.ListedColormap(['green', 'red'])\n",
    "\n",
    "plt.yticks([])\n",
    "plt.scatter(x=y_test.index, y=[1]*len(y_test),\n",
    "            c=(accuracy_data != True).astype(float),\n",
    "            marker='.', cmap=cmap)\n",
    "\n",
    "# Set the title and axis label\n",
    "plt.title(\"Accuracy of Prediction (Incorrect Predictions in Red)\",\n",
    "          fontsize=14)\n",
    "plt.xlabel('Years', fontsize=12)\n",
    "\n",
    "# Display the results\n",
    "plt.show()\n",
    "print(f\"The accuracy is {accuracy_percentage}%.\")"
   ]
  },
  {
   "cell_type": "markdown",
   "metadata": {
    "id": "FiTdAINCXYBr"
   },
   "source": [
    "The accuracy is calculated as seen above. These calculations for the accuracy and other performance metrics can be done using the ready-made `classification_report` method. You will learn about the `classification_report` method in the latter part of the chapter.\n",
    "\n",
    "Is the accuracy score enough to conclude that the ML model is effective?\n",
    "\n",
    "Probably not.\n",
    "Consider an ML model designed to predict whether you should buy or sell. This ML model has an accuracy of 73%. But while using this model, the sell signals are not great and making losses.\n",
    "\n",
    "How is that possible for an ML model with 73% accuracy?\n",
    "\n",
    "To get an answer to that question, you have to get the accuracy number label wise, or the action which the ML model will take. In this case, the accuracy for each buy and sell prediction. This will help you get a more granular view of how the model is performing.\n",
    "\n",
    "It comes out that the ML model predicted 100 times that the price would go up, the price actually went up 90 times. And 10 times it actually fell. \n",
    "\n",
    "So for predicting the “Buy” signal, the model is 90% accurate. That’s pretty good.\n",
    "\n",
    "| | | ML Predicted Buy |\n",
    "|---|---|---|\n",
    "| Actual price movement | Price does not go up | 10 |\n",
    "| | Price goes up | 90 |\n",
    "\n",
    "\n",
    "\n",
    "But for the sell signal. The model predicted 50 times that price would go down. The price went down only 20 times and 30 times it went up. The model is only 40% accurate in predicting the sell signal. Therefore, placing a sell order based on the model's recommendation is bound to be disastrous."
   ]
  },
  {
   "cell_type": "markdown",
   "metadata": {
    "id": "AtK1tEJPXYBs"
   },
   "source": [
    "\n",
    "| | | ML Predicted Buy | ML Predicted to Sell |\n",
    "|---|---|---|---|\n",
    "| Actual price movement | Price does not go up | 10 | 20 |\n",
    "| | Price goes up | 90 | 30 |  \n",
    "\n",
    "\n",
    "<br>The matrix shown here is called a confusion matrix."
   ]
  },
  {
   "cell_type": "markdown",
   "metadata": {
    "id": "OS6SebQCXYBt"
   },
   "source": [
    "Sometimes, there are jargons used to explain the matrix labels such as False Positive, True Positive, False Negative, and True Negative. In the above example, let’s say Buy is Positive and Sell is Negative.\n",
    "\n",
    "On all the occasions where the ML model predicted buy correctly, we call that as True Positive. The number of times where the ML model was wrong in predicting Buy or positive, we call it as False Positive. False because the ML model was wrong in forecasting the positive label.\n",
    "\n",
    "Similarly, can you tell what is a True Negative and False Negative?\n",
    "\n",
    "The number of times ML model correctly predicted negative or the sell signal, is True Negative. And where the ML model was incorrect in the prediction of negative label or sell signal, is called a False Negative. This usage of terminology of positive and negative comes from medical science, where we run the test and the result is either positive or negative. But in some cases, there can be a misdiagnosis.\n",
    "\n",
    "Let us see the confusion matrix of our machine learning model now."
   ]
  },
  {
   "cell_type": "markdown",
   "metadata": {
    "id": "NnZfrSmshi3z"
   },
   "source": [
    "\n",
    "\n",
    "Syntax:\n",
    "```python\n",
    "confusion_matrix(y_test, y_pred)\n",
    "```\n",
    "\n",
    "Parameters:\n",
    "\n",
    "1. **y_test:** The observed target from the training dataset.\n",
    "2. **y_pred:** The predicted target from the model.\n",
    "\n",
    "Returns:\n",
    "\n",
    "A `numpy` array of the confusion matrix."
   ]
  },
  {
   "cell_type": "code",
   "execution_count": 3,
   "metadata": {
    "id": "QY1a03qtIzD8",
    "outputId": "adeedc7b-9ace-42dc-dacf-069e3b05714f"
   },
   "outputs": [
    {
     "data": {
      "image/png": "[encoded data removed]",
      "text/plain": [
       "<Figure size 432x288 with 1 Axes>"
      ]
     },
     "metadata": {},
     "output_type": "display_data"
    }
   ],
   "source": [
    "# Define the confusion matrix\n",
    "confusion_matrix_data = confusion_matrix(y_test.values, \n",
    "                                         y_pred.values)\n",
    "\n",
    "# Plot the data\n",
    "fig, ax = plt.subplots(figsize=(6, 4))\n",
    "sns.heatmap(confusion_matrix_data, fmt=\"d\",\n",
    "            cmap='Blues', cbar=False, annot=True, ax=ax)\n",
    "\n",
    "# Set the axes labels and the title\n",
    "ax.set_xlabel('Predicted Labels', fontsize=12)\n",
    "ax.set_ylabel('Actual Labels', fontsize=12)\n",
    "ax.set_title('Confusion Matrix', fontsize=14)\n",
    "ax.xaxis.set_ticklabels(['No Position', 'Long Position'])\n",
    "ax.yaxis.set_ticklabels(['No Position', 'Long Position'])\n",
    "\n",
    "# Display the plot\n",
    "plt.show()"
   ]
  },
  {
   "cell_type": "markdown",
   "metadata": {
    "id": "RLqnJcxwXYBv"
   },
   "source": [
    "The confusion matrix as seen above gives us the following information:\n",
    "\n",
    "1. True Positive: 1007 correct predictions for taking a long position.\n",
    "2. False Positive: 951 incorrect predictions for taking a long position when the expected action was no position.\n",
    "3. True Negative: 985 correct predictions for taking no position.\n",
    "4. False Negative: 921 incorrect predictions for taking no position when the expected action was to take a long position.\n",
    "\n",
    "The confusion matrix helps us understand the effectiveness of the model, but it has its own limitation.\n",
    "\n",
    "If you have more labels to classify, the confusion matrix grows. \n",
    "For example, 3 labels like buy, no position, and sell look like this.\n",
    "\n",
    "<br>\n",
    "\n",
    "|||ML Predicted Buy|No position|Sell|\n",
    "|--|---|---|--|--|\n",
    "|Actual price|Price goes up|10|25|40|\n",
    "|movement|Price stays the same|90|25|20|\n",
    "||Price goes down|80|40|30|\n",
    "<br>\n"
   ]
  },
  {
   "cell_type": "markdown",
   "metadata": {
    "id": "cd1wZb_HXYBw"
   },
   "source": [
    "And if your labels are the quantity of shares, which can range from 0 to 10, to buy, then it will be an 11 by 11 table.\n",
    "\n",
    "Thus, as the number of labels grows, it becomes difficult to interpret.\n",
    "\n",
    "||||ML|Predict|||||||||\n",
    "|---|---|---|---|---|---|---|---|---|---|---|---|---|\n",
    "|||Buy 0|..|..|..|..|..|..|..|..|..|Buy 10 |\n",
    "|Actual Price |No increase| 10|25|40|10|25|40|10|25|40|10|25|\n",
    "|Movement|Increases 0.1%| 25|40|10|25|40|10|25|40|10|25|10|\n",
    "||Increases 0.2%| 40|10|25|40|10|25|40|10|25|10|23|\n",
    "||Increases 0.3%| 25|40|10|25|40|10|25|10|45|5|15|\n",
    "||Increases 0.4%| 10|25|40|10|25|40|10|25|10|40|50\n",
    "||Increases 0.5%| 25|40|10|25|40|10|25|10|45|5|15|\n",
    "||Increases 0.6%| 40|10|25|40|10|25|40|10|25|10|23|\n",
    "||Increases 0.7%| 10|25|40|10|25|40|10|25|10|40|50\n",
    "||Increases 0.8%| 40|10|25|40|10|25|40|10|25|10|23|\n",
    "||Increases 0.9%| 25|40|10|25|40|10|25|10|45|5|15|\n",
    "||Increases 1%+| 10|25|40|10|25|40|10|25|10|40|50|\n",
    "\n",
    "\n",
    "<br>\n",
    "\n",
    "Are there other reasons we should not keep accuracy as the only metric?\n",
    "\n",
    "Let's take a slight diversion here and imagine that Rob wants to create an ML algorithm that would be helpful in times of stress or market fall, such as during the outbreak of the covid 19 pandemic.\n",
    "\n",
    "He analysed the daily returns of the S&P 500 for the past 40 years."
   ]
  },
  {
   "cell_type": "markdown",
   "metadata": {
    "id": "DNX0UbP6XYBx"
   },
   "source": [
    "Rob built an ML algorithm to predict when the S&P 500’s daily returns will be less than -5%. And based on the ML model prediction, Rob will short the SP500 futures. This ML model created by Rob showed accuracy of 99.8%. Whoa! He was on cloud 9! \n",
    "\n",
    "But Mary, his friend and colleague, looked suspicious and took a deep dive into the data. The ML algorithm was run on 10,000 days from 1980 to 2021. The ML was correct 9980 times, resulting in accuracy of 99.8%. \n",
    "\n",
    "She found that the S&P 500 went below 5% only 20 times. \n",
    "\n",
    "And the algorithm predicted on all days including the 20 days to not short S&P 500 futures. On all 20 days where SP500 fell by 5%, the model was incorrect.\n",
    "\n",
    "Mary explained the problem to Rob and advised him that there is a better metric to use here. It is to check how many times the model predicted that the market will fall by 5% correctly."
   ]
  },
  {
   "cell_type": "markdown",
   "metadata": {
    "id": "aIk0o0IoXYBx"
   },
   "source": [
    "|||ML prediction||\n",
    "|--|--|--|--|\n",
    "|||Price not below 5%|Price below 5%|\n",
    "|Actual value|Price not below 5%|9980|0|\n",
    "||Price goes below 5%|20|0|\n",
    "\n",
    "In the example, it is zero out of 20 instances. \n",
    "\n",
    "This is called recall metrics.\n",
    "\n",
    "So Rob was delighted and said he will only use recall going forward.\n",
    "\n",
    "Mary had to tell Rob that the recall metric as standalone is also not good.\n",
    "\n",
    "What if the model simply predicts to sell on all days?\n",
    "\n",
    "|||ML prediction||\n",
    "|--|--|--|--|\n",
    "|||Price not below 5%|Price below 5%|\n",
    "|Actual value|Price not below 5%|0|9980|\n",
    "||Price goes below 5%|0|20|\n",
    " \n",
    "\n"
   ]
  },
  {
   "cell_type": "markdown",
   "metadata": {
    "id": "D_ap_MdoXYBy"
   },
   "source": [
    "The recall for the market falling by 5%  will be 20/20 or 100%, that is correct all the time. But you know this model is not useful.\n",
    "\n",
    "Mary said you should also check the number of times the model gave the sell signal and it turned outright.\n",
    "\n"
   ]
  },
  {
   "cell_type": "markdown",
   "metadata": {
    "id": "lCY8BbK8XYBy"
   },
   "source": [
    "|||ML prediction||\n",
    "|--|--|--|--|\n",
    "|||Price not below 5%|Price below 5%|\n",
    "|Actual value|Price not below 5%|0|9980|\n",
    "||Price goes below 5%|0|20|\n",
    "||Total||100|\n",
    "\n",
    "<br>\n",
    "\n",
    "Rob realised that this value is 20 out of 10000 times, which is 0.002. This value is called precision. \n",
    "\n",
    "Rob realised that both recall and precision are equally important. \n",
    "\n",
    "He asked Mary if there's a way to create a performance measure that can combine both?\n",
    "\n",
    "Mary said Yes. It is called the f1 score. You can use the f1 score to understand the overall performance of the algorithm. The f1 score is the harmonic mean of precision and recall. \n",
    "\n",
    "$$ f1 score = 2 * \\frac{(precision * recall)}{(precision + recall)} $$\n",
    "\n",
    "Rob quickly calculated the  f1 score for his model. It came out to 0.003.\n",
    "\n",
    "$$ f1 score = 2 * \\frac{(1*0.002)}{(1+0.002)} = \\frac{0.004}{1.002}  = 0.003$$\n",
    "\n",
    "Let us look at the formulae for the different performance metrics:\n",
    "\n",
    "$$\n",
    "\\text{Recall} = \\frac{\\text{Number of times the algorithm predicted an outcome correctly}}{\\text{Total number of the actual outcomes}}\\\\[1cm] $$\n",
    "$$ \\text{Precision} = \\frac{\\text{Number of times the algorithm predicted an outcome correctly}}{\\text{Total number of said outcomes predicted by the algorithm}}\\\\[1cm] $$\n",
    "$$ \\text{f1-score} = \\frac{2 * \\text{(precision * recall)}}{\\text{(precision + recall)}}\\\\[1cm]\n",
    "$$\n",
    "\n",
    "The `scikit-learn` library has a function called `classification_report` which provides measures like precision, recall, f1-score and support for each class. Precision and recall indicate the quality of our predictions. The f1-score gives the harmonic mean of precision and recall. The support values are used as weights to compute the average values of precision, recall and f1-score.\n",
    "\n",
    "An f1-score above 0.5 is usually considered a good number.\n",
    "\n",
    "You can simply use the following syntax to print the classification report.\n",
    "\n",
    "Syntax:\n",
    "```python\n",
    "classification_report(y_test, y_pred)\n",
    "```\n",
    "\n",
    "Parameters:\n",
    "\n",
    "1. **y_test:** The observed target from the training dataset.<br>\n",
    "2. **y_pred:** The predicted target from the model.<br>\n",
    "\n",
    "Returns: <br>\n",
    "\n",
    "Classification Report containing precision, recall, f1-score and support."
   ]
  },
  {
   "cell_type": "code",
   "execution_count": 4,
   "metadata": {
    "id": "91sx9XXshi33",
    "outputId": "63a62b87-23f2-454e-c140-7ca1c389c7f5"
   },
   "outputs": [
    {
     "name": "stdout",
     "output_type": "stream",
     "text": [
      "              precision    recall  f1-score   support\n",
      "\n",
      "           0       0.52      0.51      0.51      1936\n",
      "           1       0.51      0.52      0.52      1928\n",
      "\n",
      "    accuracy                           0.52      3864\n",
      "   macro avg       0.52      0.52      0.52      3864\n",
      "weighted avg       0.52      0.52      0.52      3864\n",
      "\n"
     ]
    }
   ],
   "source": [
    "# Classification report\n",
    "classification_report_data = classification_report(y_test,\n",
    "                                                   y_pred)\n",
    "\n",
    "# Print the classification report\n",
    "print(classification_report_data)"
   ]
  },
  {
   "cell_type": "markdown",
   "metadata": {
    "id": "uwvc0yOKhi33"
   },
   "source": [
    "In the left-most column, you can see the values 0.0 and 1.0. These represent the position as follows:\n",
    "\n",
    "1. `0` means no position.\n",
    "1. `1` means a long position.\n",
    "\n",
    "So from the table, you can say that the ML Model has an overall accuracy score of 0.52. The accuracy we calculated was 51.55% which is approximately 0.52. Apart from accuracy, you can identify the precision, recall, and f1-score for the signals as well. \n",
    "\n",
    "Support is the number of actual occurrences of the class in the specified dataset. Thus, in the total signal, there were 1936 occurrences of `0`, and 1928 occurrences of the `1` signal.\n",
    "\n",
    "The accuracy score tells you how the ML model performed in total. \n",
    "\n",
    "\n",
    "What are macro and weighted averages?\n",
    "\n",
    "Sometimes, the signal values might not be balanced. There could be instances where the number of occurrences for `0` is barely 50 while the number of occurrences for `1.0` is 500. In this scenario, the weighted average will give more weightage to the signal `1`. In contrast, the macro average takes a simple average of all the occurrences.\n",
    "\n",
    "\n",
    "Thus, the machine learning model's performance can be analysed using the metrics you have learned in this notebook. Great! Now you know the metrics to analyse the performance, but what happens if we use this algorithm in the real world?"
   ]
  }
 ],
 "metadata": {
  "colab": {
   "collapsed_sections": [],
   "name": "Chapter 6 - Metrics to Evaluate Classifier Model.ipynb",
   "provenance": []
  },
  "kernelspec": {
   "display_name": "Python 3 (ipykernel)",
   "language": "python",
   "name": "python3"
  },
  "language_info": {
   "codemirror_mode": {
    "name": "ipython",
    "version": 3
   },
   "file_extension": ".py",
   "mimetype": "text/x-python",
   "name": "python",
   "nbconvert_exporter": "python",
   "pygments_lexer": "ipython3",
   "version": "3.9.5"
  },
  "toc": {
   "base_numbering": 1,
   "nav_menu": {},
   "number_sections": true,
   "sideBar": true,
   "skip_h1_title": false,
   "title_cell": "Table of Contents",
   "title_sidebar": "Contents",
   "toc_cell": false,
   "toc_position": {},
   "toc_section_display": true,
   "toc_window_display": false
  },
  "varInspector": {
   "cols": {
    "lenName": 16,
    "lenType": 16,
    "lenVar": 40
   },
   "kernels_config": {
    "python": {
     "delete_cmd_postfix": "",
     "delete_cmd_prefix": "del ",
     "library": "var_list.py",
     "varRefreshCmd": "print(var_dic_list())"
    },
    "r": {
     "delete_cmd_postfix": ") ",
     "delete_cmd_prefix": "rm(",
     "library": "var_list.r",
     "varRefreshCmd": "cat(var_dic_list()) "
    }
   },
   "types_to_exclude": [
    "module",
    "function",
    "builtin_function_or_method",
    "instance",
    "_Feature"
   ],
   "window_display": false
  }
 },
 "nbformat": 4,
 "nbformat_minor": 1
}
