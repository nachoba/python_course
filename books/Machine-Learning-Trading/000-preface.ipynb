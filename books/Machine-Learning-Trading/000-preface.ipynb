{
 "cells": [
  {
   "cell_type": "markdown",
   "metadata": {},
   "source": [
    "# Machine Learning Trading\n",
    "## Preface\n",
    "\n",
    "\n",
    "> Arthur Samuel wrote the first computer learning program to play checkers.\n",
    "\n",
    "Machine learning has varied applications. From agricultural forecasts, to stock price estimations, you can use machine learning almost anywhere where data has to be analysed. Some machine learning algorithms actually unearth information that you didn't even know existed.\n",
    "\n",
    "If we focus on algorithmic trading, we routinely execute the following tasks:\n",
    "+ Download and manage price, fundamental and other alternative data from multiple data vendors and in different formats.\n",
    "+ Pre-processing the data and cleaning.\n",
    "+ Forming an hypothesis for a trading strategy and backstesting it.\n",
    "+ Automating the trading strategy to make sure emotions don't get in the way of your trading strategy.\n",
    "\n",
    "We found out that we can outsource most of these tasks to the machine. And this is the reason you, the reader, have a book which talks about machine learning and its applications in trading.\n",
    "\n",
    "Our aim in this book is to demystify these concepts and provide clarity on how machine learning is different from conventional programming. And further, how machine learning can be used to gain an edge in the trading domain.\n",
    "\n",
    "We have structured the book in such a way that initially, you will learn about the various tasks carried out by a machine learning algorithm.\n",
    "\n",
    "Once the basics of ML tasks are covered, we move futher and go through various ML algorithms, one chapter at a time. We will build upon the concepts and give you a step by step guide on how an idea can be converted to rules, and apply machine learning to test this idea on real-world data.\n",
    "\n",
    "The material presented here is an elementary introduction to the world of machine learning. You can think of it as a book telling you about the foundations of machine learning and how it is applied in real life.\n",
    "\n",
    "From the outset, we believe that only theory is not enough to retain knowledge. You need to know how you can apply this knowledge in the real world.\n",
    "\n",
    "**How to read this book?** The ideal way to go through this book is one chapter at a time. The idea of this book was to present the core set and principles of machine learning in an easy to understand language and also, in a compact form.\n",
    "\n"
   ]
  }
 ],
 "metadata": {
  "language_info": {
   "name": "python"
  }
 },
 "nbformat": 4,
 "nbformat_minor": 2
}
