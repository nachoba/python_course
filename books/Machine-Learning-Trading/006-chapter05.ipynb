{
 "cells": [
  {
   "cell_type": "markdown",
   "metadata": {},
   "source": [
    "# Chapter 5\n",
    "# Training and Forecasting using Classification Model\n",
    "In the previous chapters, we learned about the *features* (`X`), *target* (`y`), and the train-test split.\n",
    "\n",
    "Now, we have to train the ML algorithm so that when it goes in the real world, it will perform spectaculary.\n",
    "\n",
    "We will use the `X_train` and `y_train`  to train the ML model. The model training is also referred to as \"fiting\" the model.\n",
    "\n",
    "![alt text](assets/graph005.png)\n",
    "\n",
    "After the model is fit, the `X_test` will be used with the trained machine learning model to get the predicted values (`y_pred`).\n",
    "\n",
    "![alt text](assets/graph006.png)\n",
    "\n"
   ]
  },
  {
   "cell_type": "code",
   "execution_count": 1,
   "metadata": {},
   "outputs": [],
   "source": [
    "# Import Libraries\n",
    "# For data manipulation\n",
    "import pandas as pd\n",
    "\n",
    "# Import Random Forest Classifier\n",
    "from sklearn.ensemble import RandomForestClassifier"
   ]
  },
  {
   "cell_type": "markdown",
   "metadata": {},
   "source": [
    "## Read the Data\n",
    "The target (`y`) and features (`X`) for the `train` and `test` dataset is read from the CSV files. Note that this data was prepared in the previous chapters."
   ]
  },
  {
   "cell_type": "code",
   "execution_count": 2,
   "metadata": {},
   "outputs": [],
   "source": [
    "# Read the target and features of the training and testing data\n",
    "\n",
    "X_train = pd.read_csv('/Users/nacho/Documents/GitHub/python_course/books/Machine-Learning-Trading/assets/machine-learning-in-trading-main-main/data_modules/JPM_features_training_2017_2019.csv',\n",
    "                      index_col=0, parse_dates=True)\n",
    "X_test  = pd.read_csv('/Users/nacho/Documents/GitHub/python_course/books/Machine-Learning-Trading/assets/machine-learning-in-trading-main-main/data_modules/JPM_features_testing_2017_2019.csv',\n",
    "                      index_col=0, parse_dates=True)\n",
    "y_train = pd.read_csv('/Users/nacho/Documents/GitHub/python_course/books/Machine-Learning-Trading/assets/machine-learning-in-trading-main-main/data_modules/JPM_target_training_2017_2019.csv',\n",
    "                      index_col=0, parse_dates=True)\n",
    "y_test  = pd.read_csv('/Users/nacho/Documents/GitHub/python_course/books/Machine-Learning-Trading/assets/machine-learning-in-trading-main-main/data_modules/JPM_target_testing_2017_2019.csv',\n",
    "                      index_col=0, parse_dates=True)"
   ]
  },
  {
   "cell_type": "markdown",
   "metadata": {},
   "source": [
    "## Select a Classification Model\n",
    "We will use the `RandomForestClassifier`, right now it is not important to understand the model and how it works. What is important to learn here is how the `train_data` and `test_data` are used  along with the ML model.\n",
    "\n",
    "The `RandomForestClassifier` model from the `sklearn` package is used to create the classification tree model. \n",
    "\n",
    "```python\n",
    "RandomForestClassifier(n_estimators, max_features, max_depth, random_state)\n",
    "```\n",
    "\n",
    "Where:\n",
    "1. `n_estimators` The number of trees in the forest\n",
    "2. `max_features` The number of features to consider when looking for the best split\n",
    "3. `max_depth` The maximum depth of a tree\n",
    "4. `random_state` Seed value for the randomised boostrapping and feature selection. This is set to replicate results for subsequent runs.\n",
    "\n",
    "Function returns:\n",
    "1. A `RandomForestClassifier` type object that can be fit on the test data, and then used for making forecasts.\n",
    "\n",
    "We have set the values for the parameters. These are for illustration and can be changed."
   ]
  },
  {
   "cell_type": "code",
   "execution_count": 3,
   "metadata": {},
   "outputs": [],
   "source": [
    "# Create the machine learning model\n",
    "rf_model = RandomForestClassifier(\n",
    "    n_estimators=3, max_features=3, max_depth=2, random_state=4)"
   ]
  }
 ],
 "metadata": {
  "kernelspec": {
   "display_name": "ml-trading",
   "language": "python",
   "name": "python3"
  },
  "language_info": {
   "codemirror_mode": {
    "name": "ipython",
    "version": 3
   },
   "file_extension": ".py",
   "mimetype": "text/x-python",
   "name": "python",
   "nbconvert_exporter": "python",
   "pygments_lexer": "ipython3",
   "version": "3.10.16"
  }
 },
 "nbformat": 4,
 "nbformat_minor": 2
}
