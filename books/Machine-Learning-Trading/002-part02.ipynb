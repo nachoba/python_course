{
 "cells": [
  {
   "cell_type": "markdown",
   "metadata": {},
   "source": [
    "## Part II\n",
    "## Machine Learning Implementation Framework\n",
    "\n",
    "When you use machine learning, there are a few things you need to make sure before passing the information to an ML algorithm. In general, you will carry out the following tasks.\n",
    "\n",
    "1. Defining the problem statement\n",
    "2. Reading data\n",
    "3. Data sanity checks\n",
    "4. Setting target variable\n",
    "5. Feature engineering\n",
    "6. Test-train data split\n",
    "7. Backtesting results and analyzing the performance of algorithm\n",
    "\n",
    "### Example\n",
    "A trader is looking to use a ML algorithm that can guide him when to go long on $JPM stock. He goes to a data vender to get the price data.\n",
    "\n",
    "He then makes sure that the data quality is good. He does this by checking for missing and duplicate values in the data. He performs other analysis to ensure that the data can be used with the ML algorithm.\n",
    "\n",
    "Now he wants the ML algo to predict when to go long on $JPM.\n",
    "\n",
    "He marks the days when the next day's price is more than that day's price as `1`. And the rest of the days are marked as `0`.\n",
    "\n",
    "This is his target variable or what his ML algo will try to predict.\n",
    "\n",
    "**But what is required as input to predict the target variable?** The inputs to the machine learning algorithm are called feature variables. He uses indicators such as RSI, MACD, and even momentum indicators such as ADX.\n",
    "\n",
    "**How does he evaluate if the machine learning model is effective?** For that, he splits the data into train and test. The train data is then used by the algorithm to learn the relationship between the feature variables and the target. This relationship is the referred to as the ML model. This way the algorithm will learn how the feature variables and target variables are related by using the train dataset. And he verifies the performance of the model on the test dataset.\n",
    "\n",
    "**Which metrics can be used to evaluate the model?** Since he has created the target variable beforehand, he has the actual signals. He can simply compare the predicted signals of the ML model with the actual data.\n",
    "\n",
    "For exmaple, the ML model predicted a signal of `1` on 8th July 2021. This means that the ML model thinks that the price on 9th July 2021 would be higher than 8th July 2021.\n",
    "\n",
    "He checked the price and sure enough, it had increased. This means the ML program was correct in predicting the price moves for that day.\n",
    "\n",
    "Finally, he generates signals thtough the machine learning model and backtests them. He plots the equity curve and drawdown to analyse the performance further.\n",
    "\n",
    "This was a brief overview of the ML tasks. Let us deep dive into each of these steps and implement them in Python.\n",
    "\n"
   ]
  }
 ],
 "metadata": {
  "language_info": {
   "name": "python"
  }
 },
 "nbformat": 4,
 "nbformat_minor": 2
}
