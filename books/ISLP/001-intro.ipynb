{
 "cells": [
  {
   "cell_type": "markdown",
   "metadata": {},
   "source": [
    "# An Introduction to Statistical Learning\n",
    "*With applications in Python*\n",
    "\n",
    "## Introduction\n",
    "### An Overview of Statistical Learning\n",
    "*Statistical Learning* refers to a vast set of tools for understanding data.\n",
    "\n",
    "These tools can be classified as:\n",
    "1. Supervised learning\n",
    "2. Unsupervised learning\n",
    "\n",
    "Boradly speaking, supervised statistical learning involves building a statistical model for predicting, or estimating, an *output* based on one or more *inputs*.\n",
    "\n",
    "With unsupervised learning, there are inputs but no supervising output; nevertheless we can learn relationships and structure from such data.\n",
    "\n",
    "To provide an illustration of some applications of statistical learning, we briefly discuss three real-world data sets that are considered in this book.\n",
    "\n",
    "#### Wage Data\n",
    "In this dataset `Wage`, we examine a number of factors that relate to wages for a group of men from the Atlantic region of the US.\n",
    "\n",
    "We wish to understand the association between an employee's `age` and `education`, as well as the calendar `year`, on his `wage`. "
   ]
  }
 ],
 "metadata": {
  "language_info": {
   "name": "python"
  }
 },
 "nbformat": 4,
 "nbformat_minor": 2
}
