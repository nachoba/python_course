{
 "cells": [
  {
   "cell_type": "markdown",
   "metadata": {},
   "source": [
    "# An Introduction to Statistical Learning\n",
    "*With applications in Python*\n",
    "\n",
    "## Preface\n",
    "Statistical learning refers to a set of tools for *making sense of complex datasets.*\n",
    "\n",
    "In addition to a review of linear regression, ISLR covers many of today's most important statistical and machine learning approaches, including resampling, sparse methods for classification and regression, generalized additive models, tree-based methods, support vector machines, deep learning, survival analysis, clustering, and multiple testing.\n",
    "\n",
    "Several of the labs make use of the `ISLP Python` package, which we have written to facilitate carrying out the statistical learning methods covered in each chapter. These labs will be useful both for Python novices, as well as experienced users.\n"
   ]
  }
 ],
 "metadata": {
  "kernelspec": {
   "display_name": "panditas",
   "language": "python",
   "name": "python3"
  },
  "language_info": {
   "name": "python",
   "version": "3.12.4"
  }
 },
 "nbformat": 4,
 "nbformat_minor": 2
}
