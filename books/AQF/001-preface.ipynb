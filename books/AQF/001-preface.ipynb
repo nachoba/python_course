{
 "cells": [
  {
   "cell_type": "markdown",
   "metadata": {},
   "source": [
    "# Applied Quantitative Finance\n",
    "**Using Python for Financial Analysis**\n",
    "\n",
    "*Mauricio Garita*\n",
    "\n",
    "## Preface\n",
    "\n",
    "Why use Python for finance?\n",
    "\n",
    "- *Ease of use:* The language is extremely easy to use and to understand. The process of accessing data from an Excel or an API is simple.\n",
    "- *Jupyter Notebooks:* The use of notebooks is helpful in the programming process as well as when elaborating different plots.\n",
    "- *Plots:* In the book the Matplotlib library will be used when elaborating plots. Matplotlib is a very useful library for elaborating 2D plots. The plots are easy to configure and share.\n"
   ]
  },
  {
   "cell_type": "code",
   "execution_count": null,
   "metadata": {},
   "outputs": [],
   "source": []
  }
 ],
 "metadata": {
  "language_info": {
   "name": "python"
  }
 },
 "nbformat": 4,
 "nbformat_minor": 2
}
